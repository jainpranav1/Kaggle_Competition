{
  "cells": [
    {
      "cell_type": "markdown",
      "source": "# Tips",
      "metadata": {
        "formattedRanges": [],
        "cell_id": "ac468e2204754011ad32fc7952077772",
        "deepnote_cell_type": "text-cell-h1"
      },
      "block_group": "d8c9825adbb342c2bcbf733a47067eac"
    },
    {
      "cell_type": "markdown",
      "source": "- Here is a good explanation of Dask dataframes (made up of Pandas dataframes)",
      "metadata": {
        "formattedRanges": [
          {
            "url": "https://www.youtube.com/watch?v=AT2XtFehFSQ",
            "type": "link",
            "ranges": [],
            "toCodePoint": 5,
            "fromCodePoint": 0
          }
        ],
        "cell_id": "04faabcd13de4ec79dedbee3a85bc8fb",
        "deepnote_cell_type": "text-cell-bullet"
      },
      "block_group": "f11ee6206da3459487f2643fc797a99a"
    },
    {
      "cell_type": "markdown",
      "source": "- Here is the Dask Dataframe API",
      "metadata": {
        "formattedRanges": [
          {
            "url": "https://docs.dask.org/en/stable/dataframe-api.html",
            "type": "link",
            "ranges": [],
            "toCodePoint": 4,
            "fromCodePoint": 0
          }
        ],
        "cell_id": "6baa44d349424179b8301832fa87fbd7",
        "deepnote_cell_type": "text-cell-bullet"
      },
      "block_group": "006f18b1e970455782f442d29b47c223"
    },
    {
      "cell_type": "markdown",
      "source": "- Here is the Dask ML API",
      "metadata": {
        "formattedRanges": [
          {
            "url": "https://ml.dask.org/modules/api.html",
            "type": "link",
            "ranges": [],
            "toCodePoint": 4,
            "fromCodePoint": 0
          }
        ],
        "cell_id": "f54e134e8bcf47189d71975ff4648028",
        "deepnote_cell_type": "text-cell-bullet"
      },
      "block_group": "09b3919515914a54bd76b084ba3c8457"
    },
    {
      "cell_type": "markdown",
      "source": "- Here are some examples of HvPlot (tool for plotting which works with Dask)",
      "metadata": {
        "formattedRanges": [
          {
            "url": "https://hvplot.holoviz.org/index.html",
            "type": "link",
            "ranges": [],
            "toCodePoint": 4,
            "fromCodePoint": 0
          }
        ],
        "cell_id": "ee1ba36e8a744d06b8cca9787d629a99",
        "deepnote_cell_type": "text-cell-bullet"
      },
      "block_group": "dd07918f2e14454ea3e6ec555e36f207"
    },
    {
      "cell_type": "markdown",
      "source": "<a style='text-decoration:none;line-height:16px;display:flex;color:#5B5B62;padding:10px;justify-content:end;' href='https://deepnote.com?utm_source=created-in-deepnote-cell&projectId=fe343e39-d2c0-4296-915d-091d9a42752d' target=\"_blank\">\n<img alt='Created in deepnote.com' style='display:inline;max-height:16px;margin:0px;margin-right:7.5px;' src='data:image/svg+xml;base64,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' > </img>\nCreated in <span style='font-weight:600;margin-left:4px;'>Deepnote</span></a>",
      "metadata": {
        "created_in_deepnote_cell": true,
        "deepnote_cell_type": "markdown"
      }
    }
  ],
  "nbformat": 4,
  "nbformat_minor": 0,
  "metadata": {
    "deepnote": {},
    "orig_nbformat": 2,
    "deepnote_notebook_id": "7bf6c7f1310946f0a332fff1e5da7609",
    "deepnote_execution_queue": []
  }
}