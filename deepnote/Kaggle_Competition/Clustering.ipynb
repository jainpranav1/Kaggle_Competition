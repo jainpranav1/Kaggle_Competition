{
  "cells": [
    {
      "cell_type": "markdown",
      "source": "### Data Pre-Processing",
      "metadata": {
        "formattedRanges": [],
        "cell_id": "ff61e62cf2224984bbab1675830f6658",
        "deepnote_cell_type": "text-cell-h3"
      },
      "block_group": "d0a2d04bd48d41f78cb5b205dc1ca020"
    },
    {
      "cell_type": "code",
      "source": "# Import modules and libraries\n\nimport numpy as np\nimport dask.dataframe as dd\nfrom dask.diagnostics import ProgressBar\nfrom itertools import product\nimport matplotlib.pyplot as plt\nimport pandas as pd\nfrom scipy.ndimage import zoom\nfrom sklearn.impute import SimpleImputer\nimport seaborn as sns\nfrom sklearn.preprocessing import StandardScaler\n%pip install -U scikit-learn\nfrom sklearn.metrics.pairwise import cosine_similarity\nfrom sklearn.metrics.pairwise import linear_kernel\n%pip install umap-learn;\n%pip install umap-learn[plot]\nimport umap\nimport umap.plot",
      "metadata": {
        "cell_id": "7db031e37dbe4120a47b0580e5ce418a",
        "deepnote_cell_type": "code"
      },
      "outputs": [],
      "execution_count": null,
      "block_group": "fbafb07192be489ea885066185bfe8f7"
    },
    {
      "cell_type": "code",
      "source": "# Generate new dataframe to work with. \"M\" is the dataframe to house the raw sequence, the first measured reactivity, the last measured reactivity, and the sequence length\n# Additional rows are for the sequence in an array type form; each column is one nucleotide.\n\nrows = len(pandas_df)\ncols = len(pandas_df.columns)\nn = 500 # normalization points - consider upscaling in final analysis to between 207-457 (length of test sequences)\n\n# Pre-processing\n# Clip values > 1 = 1, and X<0 = 0\npandas_df.iloc[:,7:212][pandas_df.iloc[:,7:212] > 1] = 1\npandas_df.iloc[:,7:212][pandas_df.iloc[:,7:212] < 0] = 0\nreact_mean = np.nanmean(pandas_df.iloc[:, 7:212])\n\nM_col_names = ['raw_seq','seq_start', 'seq_stop', 'seq_length']\n#X_col_names = []\ninit_cols = len(M_col_names)\n\n# Add new columns with normalized reactivity elements (500 sequences long)\nfor i in range(1, n+1):\n  M_col_names.append('reactivity_' + str(i))\n  #X_col_names.append('seq_' + str(i))\n\nfor i in range(1, n+1):\n  M_col_names.append('seq_' + str(i))\n\n#X = pd.DataFrame(columns = X_col_names, index = range(rows)) # Create empty data frame for sequence\nM = pd.DataFrame(columns = M_col_names, index = range(rows)) # Create empty data frame for reactivities\n\nfor i in range(rows):\n\n  #if pandas_df.iloc[i]['SN_filter'] == 1:\n    seq = [j for j in pandas_df.iloc[i]['sequence']]\n    M.iloc[i, (init_cols+n):(init_cols+n+len(seq))] = np.array(seq)\n    M.iloc[i, (init_cols+n+len(seq)+1):(init_cols + 2*n)] = 'V'\n\n    #seq_nans = pandas_df.iloc[i,7:212].isna().sum() # Sum all of the NaN's\n    seq_len = len(pandas_df.iloc[i]['sequence'])\n\n    M.iloc[i]['raw_seq'] = pandas_df.iloc[i]['sequence']\n    M.iloc[i]['seq_length'] = seq_len\n\n    seq_start = pandas_df.iloc[i, 7:212].first_valid_index()\n    M.iloc[i]['seq_start'] = seq_start\n\n    seq_stop = pandas_df.iloc[i, 7:212].last_valid_index()\n    M.iloc[i]['seq_stop'] = seq_stop\n\n    react = pandas_df.iloc[i]['reactivity_0001':'reactivity_0206'] # Gather the full reactivity values (including the NaN's)\n    react[react.isnull() == True] = react_mean # Make NaN values equal to global mean of reactivity values\n\n    react = np.array(react, dtype='float64')\n    M.iloc[i, init_cols:init_cols+len(react)] = react\n\n# Drop rows that had SN ratio < 1 and therefore will be populated with NaN's\nprint(M.shape)\nM = M.dropna(subset = ['seq_start', 'seq_stop', 'seq_length'])\nprint(M.shape)\n\n# Make any NaN values (outside the sequence) equal to 1 (should react)\n#Norm_react.iloc[:,3:502][Norm_react.iloc[:,3:502].isnull() == True] = 1\n\n# Fill NaN values with mean\nM = M.fillna(1) # Fill NaN values with =1\n#Norm_react = Norm_react.fillna(np.nanmean(Norm_react.iloc[:, 3:502].to_numpy())) # Fill NaN values with mean\n\n# Reset index:\nM.reset_index(drop=True, inplace=True)\n\nrows = len(M)\ncols = len(M.columns)",
      "metadata": {
        "cell_id": "349a0be29593465680503572c308997c",
        "deepnote_cell_type": "code"
      },
      "outputs": [],
      "execution_count": null,
      "block_group": "d1b05b50796f4c44a76c6b03032f7d41"
    },
    {
      "cell_type": "code",
      "source": "# Determine the \"average\" sequence to compare all other sequences to. E.g: {A,U,U,G,C ...}. \"V\" is for vacant, or empty, nucleotudes.\n\navg_seq = []\nseq_nuc = [\"A\", \"U\", \"G\", \"C\", \"V\"] # \"V\" is vacant nucleotide\n\nfor i in range(n):\n  counts = []\n  counts.append((M.iloc[:, (init_cols+n+i)] == 'A').sum())\n  counts.append((M.iloc[:, (init_cols+n+i)] == 'U').sum())\n  counts.append((M.iloc[:, (init_cols+n+i)] == 'G').sum())\n  counts.append((M.iloc[:, (init_cols+n+i)] == 'C').sum())\n  counts.append((M.iloc[:, (init_cols+n+i)] == 'V').sum())\n  avg_seq.append(seq_nuc[max(np.where(counts == max(counts), range(len(counts)), 0))])\n\nprint(avg_seq)",
      "metadata": {
        "cell_id": "9800f73e1f664677af17c94f7499a79e",
        "deepnote_cell_type": "code"
      },
      "outputs": [],
      "execution_count": null,
      "block_group": "233e2c9612bd4269a660699380b2c00e"
    },
    {
      "cell_type": "markdown",
      "source": "### Clustering 4.1 - PCA",
      "metadata": {
        "formattedRanges": [],
        "cell_id": "df8f5872040a46339936179738b2ff40",
        "deepnote_cell_type": "text-cell-h3"
      },
      "block_group": "1e66f9c5a8a948c2a47742df521bccc7"
    },
    {
      "cell_type": "markdown",
      "source": "- Exploratory dimensionality reduction with PCA",
      "metadata": {
        "formattedRanges": [],
        "cell_id": "7f505ed117a74380b1e04c7a1d3f584f",
        "deepnote_cell_type": "text-cell-bullet"
      },
      "block_group": "6f3757b8e455477d8132dc8ca1f3bd30"
    },
    {
      "cell_type": "code",
      "source": "# PCA analysis on reactivites\n\n# Import packages\nfrom sklearn.decomposition import PCA\nfrom sklearn.impute import SimpleImputer\n\n# Remove entire rows with specified number of NaN's\nprint(Norm_react.shape)\nNorm_react = Norm_react.dropna(how = 'all')\nprint(Norm_react.shape)\nNorm_react = Norm_react.dropna(thresh = 50) # drop if there are 50 missing values\nprint(Norm_react.shape)\n\n# Pre process the remaining individual NaN values\nimp = SimpleImputer(missing_values=np.nan, strategy='mean')\n# End of pre-processing\n\nX = np.array(Norm_react.iloc[:, 3:n+3])\nX = imp.fit_transform(X)\n\npca = PCA(n_components=400)\npca.fit(X)\n#PCA(n_components=500)\nprint(pca.explained_variance_ratio_)\n\nex_var_reposit = []\nfor i in range(500):\n  ex_var_reposit.append(sum(pca.explained_variance_ratio_[0:i]))\n\nplt.figure(figsize = (14,6))\nplt.plot(range(500), ex_var_reposit, c = 'b', label = 'explained variance')\nplt.title('Explained variance vs. # components for normalized reactivities')\nplt.xlabel('# components')\nplt.ylabel('Explained variance')\nplt.axvline(x = 170, c = 'g', linestyle = 'dashed', label = 'seq_length = 170')\nplt.axvline(x = 85, c = 'r', linestyle = 'dashed', label = 'exp_var = ' + str(ex_var_reposit[85]))\nplt.axvline(x = 100, c = 'black')\nplt.axhline(y = ex_var_reposit[85], c = 'r', linestyle = 'dashed')\nplt.legend()\nplt.show()\n",
      "metadata": {
        "cell_id": "86780043073b48e19390fb8ce880ec93",
        "deepnote_cell_type": "code"
      },
      "outputs": [],
      "execution_count": null,
      "block_group": "5a465401646a4fa68af46ad58411ca14"
    },
    {
      "cell_type": "markdown",
      "source": "### Baseline 4.2 - UMAP",
      "metadata": {
        "formattedRanges": [],
        "cell_id": "fc18065b9c7748efb9bb29bef87a4408",
        "deepnote_cell_type": "text-cell-h3"
      },
      "block_group": "e122943e1eb3423c92cefa47f2cc7327"
    },
    {
      "cell_type": "markdown",
      "source": "- Exploratory dimensionality reduction with UMAP clustering",
      "metadata": {
        "formattedRanges": [],
        "cell_id": "958d60db6ea740f9a432ec3f5ed5d8be",
        "deepnote_cell_type": "text-cell-bullet"
      },
      "block_group": "d97af502e47b4b979fec6e71b362aa49"
    },
    {
      "cell_type": "code",
      "source": "# Import packages\nimport umap\nimport umap.plot\n\n# Cite source for UMAP algorithm and implementation\n@article{mcinnes2018umap-software,\n  title={UMAP: Uniform Manifold Approximation and Projection},\n  author={McInnes, Leland and Healy, John and Saul, Nathaniel and Grossberger, Lukas},\n  journal={The Journal of Open Source Software},\n  volume={3},\n  number={29},\n  pages={861},\n  year={2018} }\n\n# UMAP analysis\nstandard_embedding = umap.UMAP(random_state=42).fit_transform(X)\n\n\n# Plot the results\nlabels = range(rows)\nplt.figure(figsize = [12, 12])\nplt.scatter(standard_embedding[:, 0], standard_embedding[:, 1], c = labels, s=0.1, cmap='Spectral');\n# Use 'total reactivity' as metric for labelling!\nplt.show()",
      "metadata": {
        "cell_id": "a8e261fc55a7459da19b8bd748c01296",
        "deepnote_cell_type": "code"
      },
      "outputs": [],
      "execution_count": null,
      "block_group": "bbce633ba46543e9b1c84572155292eb"
    },
    {
      "cell_type": "markdown",
      "source": "### Baseline 3.1",
      "metadata": {
        "formattedRanges": [],
        "cell_id": "d45ca5accb594f70bda52e88ba53ac2b",
        "deepnote_cell_type": "text-cell-h3"
      },
      "block_group": "01b018ae4bb945ee8f3d1a64688077f4"
    },
    {
      "cell_type": "markdown",
      "source": "- Normalize the sequence length so that variable lengths (e.g 178 nucleotides long or 206 nucleotides long) are normalized to a sequence of 500, with interpolated values as needed.",
      "metadata": {
        "formattedRanges": [],
        "cell_id": "1beac5b1c5594f4bb02e46ff2776526f",
        "deepnote_cell_type": "text-cell-bullet"
      },
      "block_group": "9abd54e35f4a4ab6be2ea4aa559a684c"
    },
    {
      "cell_type": "markdown",
      "source": "- Clip the reactivity values between [0,1]",
      "metadata": {
        "formattedRanges": [],
        "cell_id": "93488b0d59f34337b471cdcb7d11afa6",
        "deepnote_cell_type": "text-cell-bullet"
      },
      "block_group": "54216dc29394406d9e39513b72c574c9"
    },
    {
      "cell_type": "code",
      "source": " Reactivitiy of normalized sequence length starts here\n\nrows = len(pandas_df)\ncols = len(pandas_df.columns)\nn = 500 # normalization points - consider upscaling in final analysis\n\ncol_names = ['seq_start', 'seq_stop', 'seq_length']\n# Add new columns with normalized reactivity elements (500 sequences long)\nfor i in range(1, n+1):\n  col_names.append('reactivity_' + str(i))\n\nNorm_react = pd.DataFrame(columns = col_names, index = range(rows)) # Create empty data frame for reactivities\nNorm_react = pd.DataFrame(columns = col_names, index = range(rows)) # Create empty data frame for seq similarity\n\n# Question - does NaN mean 0 or no sequence?\nfor i in range(rows):\n\n  if pandas_df.iloc[i]['SN_filter'] == 1:\n\n    seq_nans = pandas_df.iloc[i,7:177].isna().sum() # Sum all of the NaN's\n    seq_len = len(pandas_df.iloc[i]['sequence'])\n\n    Norm_react.iloc[i]['seq_length'] = seq_len\n\n    seq_start = pandas_df.iloc[i, 7:177].first_valid_index()\n    Norm_react.iloc[i]['seq_start'] = seq_start\n\n    seq_stop = pandas_df.iloc[i, 7:177].last_valid_index()\n    Norm_react.iloc[i]['seq_stop'] = seq_stop\n\n    react = pandas_df.iloc[i]['reactivity_0001':seq_stop]\n    #react[react.isnull() == True] = 1 # Make NaN values equal to zero\n\n    react = np.array(react, dtype='float64')\n    react = np.clip(react, 0, 1) # clip values to between 0 and 1\n    # Inspied by image resizing/compression\n\n    x_interp = np.linspace(0,1,n)\n\n    react_norm = np.interp(x_interp, np.linspace(0,1,len(react)), react)\n    Norm_react.iloc[i,3:n+3] = react_norm",
      "metadata": {
        "cell_id": "09b85ded421e4e6abba9a10e2d5357ea",
        "deepnote_cell_type": "code"
      },
      "outputs": [],
      "execution_count": null,
      "block_group": "93255c7d4b81419bac28e59188699a9d"
    },
    {
      "cell_type": "markdown",
      "source": "<a style='text-decoration:none;line-height:16px;display:flex;color:#5B5B62;padding:10px;justify-content:end;' href='https://deepnote.com?utm_source=created-in-deepnote-cell&projectId=fe343e39-d2c0-4296-915d-091d9a42752d' target=\"_blank\">\n<img alt='Created in deepnote.com' style='display:inline;max-height:16px;margin:0px;margin-right:7.5px;' src='data:image/svg+xml;base64,PD94bWwgdmVyc2lvbj0iMS4wIiBlbmNvZGluZz0iVVRGLTgiPz4KPHN2ZyB3aWR0aD0iODBweCIgaGVpZ2h0PSI4MHB4IiB2aWV3Qm94PSIwIDAgODAgODAiIHZlcnNpb249IjEuMSIgeG1sbnM9Imh0dHA6Ly93d3cudzMub3JnLzIwMDAvc3ZnIiB4bWxuczp4bGluaz0iaHR0cDovL3d3dy53My5vcmcvMTk5OS94bGluayI+CiAgICA8IS0tIEdlbmVyYXRvcjogU2tldGNoIDU0LjEgKDc2NDkwKSAtIGh0dHBzOi8vc2tldGNoYXBwLmNvbSAtLT4KICAgIDx0aXRsZT5Hcm91cCAzPC90aXRsZT4KICAgIDxkZXNjPkNyZWF0ZWQgd2l0aCBTa2V0Y2guPC9kZXNjPgogICAgPGcgaWQ9IkxhbmRpbmciIHN0cm9rZT0ibm9uZSIgc3Ryb2tlLXdpZHRoPSIxIiBmaWxsPSJub25lIiBmaWxsLXJ1bGU9ImV2ZW5vZGQiPgogICAgICAgIDxnIGlkPSJBcnRib2FyZCIgdHJhbnNmb3JtPSJ0cmFuc2xhdGUoLTEyMzUuMDAwMDAwLCAtNzkuMDAwMDAwKSI+CiAgICAgICAgICAgIDxnIGlkPSJHcm91cC0zIiB0cmFuc2Zvcm09InRyYW5zbGF0ZSgxMjM1LjAwMDAwMCwgNzkuMDAwMDAwKSI+CiAgICAgICAgICAgICAgICA8cG9seWdvbiBpZD0iUGF0aC0yMCIgZmlsbD0iIzAyNjVCNCIgcG9pbnRzPSIyLjM3NjIzNzYyIDgwIDM4LjA0NzY2NjcgODAgNTcuODIxNzgyMiA3My44MDU3NTkyIDU3LjgyMTc4MjIgMzIuNzU5MjczOSAzOS4xNDAyMjc4IDMxLjY4MzE2ODMiPjwvcG9seWdvbj4KICAgICAgICAgICAgICAgIDxwYXRoIGQ9Ik0zNS4wMDc3MTgsODAgQzQyLjkwNjIwMDcsNzYuNDU0OTM1OCA0Ny41NjQ5MTY3LDcxLjU0MjI2NzEgNDguOTgzODY2LDY1LjI2MTk5MzkgQzUxLjExMjI4OTksNTUuODQxNTg0MiA0MS42NzcxNzk1LDQ5LjIxMjIyODQgMjUuNjIzOTg0Niw0OS4yMTIyMjg0IEMyNS40ODQ5Mjg5LDQ5LjEyNjg0NDggMjkuODI2MTI5Niw0My4yODM4MjQ4IDM4LjY0NzU4NjksMzEuNjgzMTY4MyBMNzIuODcxMjg3MSwzMi41NTQ0MjUgTDY1LjI4MDk3Myw2Ny42NzYzNDIxIEw1MS4xMTIyODk5LDc3LjM3NjE0NCBMMzUuMDA3NzE4LDgwIFoiIGlkPSJQYXRoLTIyIiBmaWxsPSIjMDAyODY4Ij48L3BhdGg+CiAgICAgICAgICAgICAgICA8cGF0aCBkPSJNMCwzNy43MzA0NDA1IEwyNy4xMTQ1MzcsMC4yNTcxMTE0MzYgQzYyLjM3MTUxMjMsLTEuOTkwNzE3MDEgODAsMTAuNTAwMzkyNyA4MCwzNy43MzA0NDA1IEM4MCw2NC45NjA0ODgyIDY0Ljc3NjUwMzgsNzkuMDUwMzQxNCAzNC4zMjk1MTEzLDgwIEM0Ny4wNTUzNDg5LDc3LjU2NzA4MDggNTMuNDE4MjY3Nyw3MC4zMTM2MTAzIDUzLjQxODI2NzcsNTguMjM5NTg4NSBDNTMuNDE4MjY3Nyw0MC4xMjg1NTU3IDM2LjMwMzk1NDQsMzcuNzMwNDQwNSAyNS4yMjc0MTcsMzcuNzMwNDQwNSBDMTcuODQzMDU4NiwzNy43MzA0NDA1IDkuNDMzOTE5NjYsMzcuNzMwNDQwNSAwLDM3LjczMDQ0MDUgWiIgaWQ9IlBhdGgtMTkiIGZpbGw9IiMzNzkzRUYiPjwvcGF0aD4KICAgICAgICAgICAgPC9nPgogICAgICAgIDwvZz4KICAgIDwvZz4KPC9zdmc+' > </img>\nCreated in <span style='font-weight:600;margin-left:4px;'>Deepnote</span></a>",
      "metadata": {
        "created_in_deepnote_cell": true,
        "deepnote_cell_type": "markdown"
      }
    }
  ],
  "nbformat": 4,
  "nbformat_minor": 0,
  "metadata": {
    "deepnote": {},
    "orig_nbformat": 2,
    "deepnote_notebook_id": "8561cb642deb47b29579f40b6222d3a6",
    "deepnote_execution_queue": []
  }
}