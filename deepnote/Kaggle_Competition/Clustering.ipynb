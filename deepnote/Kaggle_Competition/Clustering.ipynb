{
  "cells": [
    {
      "cell_type": "markdown",
      "source": "### Data Pre-Processing",
      "metadata": {
        "formattedRanges": [],
        "cell_id": "ff61e62cf2224984bbab1675830f6658",
        "deepnote_cell_type": "text-cell-h3"
      },
      "block_group": "d0a2d04bd48d41f78cb5b205dc1ca020"
    },
    {
      "cell_type": "code",
      "source": "# Import modules and libraries\n\nimport numpy as np\nimport dask.dataframe as dd\nfrom dask.diagnostics import ProgressBar\nfrom itertools import product\nimport matplotlib.pyplot as plt\nimport pandas as pd\nfrom scipy.ndimage import zoom\nfrom sklearn.impute import SimpleImputer\nimport seaborn as sns\nfrom sklearn.preprocessing import StandardScaler\n%pip install -U scikit-learn\nfrom sklearn.metrics.pairwise import cosine_similarity\nfrom sklearn.metrics.pairwise import linear_kernel\n%pip install umap-learn;\n%pip install umap-learn[plot]\nimport umap\nimport umap.plot",
      "metadata": {
        "cell_id": "7db031e37dbe4120a47b0580e5ce418a",
        "deepnote_cell_type": "code"
      },
      "outputs": [],
      "execution_count": null,
      "block_group": "fbafb07192be489ea885066185bfe8f7"
    },
    {
      "cell_type": "code",
      "source": "# Import the data\n\nddf = dd.read_csv(path_to_assignment_dir / \"train_data.csv\", sep = \",\")\nshfl_ddf = ddf.sample(frac = 1, random_state = 42)\nshfl_ddf.head()",
      "metadata": {
        "cell_id": "ff0d207f104c4ee1ad713bc550bb5b67",
        "deepnote_cell_type": "code"
      },
      "outputs": [],
      "execution_count": null,
      "block_group": "ca7fb292d3784a348487121f89114391"
    },
    {
      "cell_type": "code",
      "source": "# Split the data into a smaller subset to import into pandas DataFrame\n\nddf_1, ddf_2 = ddf.random_split([0.03, 0.97])",
      "metadata": {
        "cell_id": "afb65507327749d28d654d646a39482c",
        "deepnote_cell_type": "code"
      },
      "outputs": [],
      "execution_count": null,
      "block_group": "20a87a7f2fb54a79b4a6a0fff7f3fa78"
    },
    {
      "cell_type": "code",
      "source": "# Convert into Pandas DataFrame\n\npandas_df = ddf_1.compute()\nprint(pandas_df.shape)",
      "metadata": {
        "cell_id": "32b78cd8eb704aa09cfd8b42426756be",
        "deepnote_cell_type": "code"
      },
      "outputs": [],
      "execution_count": null,
      "block_group": "7db86a40b5e14794a88ae4f79abe112d"
    },
    {
      "cell_type": "code",
      "source": "# Generate new dataframe to work with. \"M\" is the dataframe to house the raw sequence, the first measured reactivity, the last measured reactivity, and the sequence length\n# Additional rows are for the sequence in an array type form; each column is one nucleotide.\n\nrows = len(pandas_df)\ncols = len(pandas_df.columns)\nn = 500 # number of sequences in input model. Will be filled with vacant, \"V\" sequences if shorter than \"n.\" Final analysis is between 207-457 (length of test sequences)\n\n# Pre-processing\n# Clip values > 1 = 1, and X < 0 = 0\npandas_df.iloc[:,7:212][pandas_df.iloc[:,7:212] > 1] = 1\npandas_df.iloc[:,7:212][pandas_df.iloc[:,7:212] < 0] = 0\nreact_mean = np.nanmean(pandas_df.iloc[:, 7:212])\n\nM_col_names = ['raw_seq','seq_start', 'seq_stop', 'seq_length', 'mod_seq_length']\n#X_col_names = []\ninit_cols = len(M_col_names)\n\n# Add new columns with normalized reactivity elements (500 sequences long)\nfor i in range(1, n+1):\n  M_col_names.append('reactivity_' + str(i))\n  #X_col_names.append('seq_' + str(i))\n\nfor i in range(1, n+1):\n  M_col_names.append('seq_' + str(i))\n\n#X = pd.DataFrame(columns = X_col_names, index = range(rows)) # Create empty data frame for sequence\nM = pd.DataFrame(columns = M_col_names, index = range(rows)) # Create empty data frame for reactivities\n\nfor i in range(rows):\n\n  if pandas_df.iloc[i]['SN_filter'] == 1: # Only use high signal to noise data\n    seq = [j for j in pandas_df.iloc[i]['sequence']]\n    M.iloc[i, (init_cols+n):(init_cols+n+len(seq))] = np.array(seq) # Add the individual characters of the sequence into the second half of the data frame\n    M.iloc[i, (init_cols+n+len(seq)+1):(init_cols + 2*n)] = 'V' # Fill the remaining sequence character columns with \"V\" for \"vacant\"\n\n    # Calculate the sequence length from character count\n    seq_len = len(pandas_df.iloc[i]['sequence'])\n    M.iloc[i]['seq_length'] = seq_len\n\n    # Save the raw sequence (contained in one column entry)\n    M.iloc[i]['raw_seq'] = pandas_df.iloc[i]['sequence']\n    \n    # Save the very first non-NaN value\n    seq_start = pandas_df.iloc[i, 7:212].first_valid_index()\n    M.iloc[i]['seq_start'] = seq_start\n\n    # Save the very last non-NaN value\n    seq_stop = pandas_df.iloc[i, 7:212].last_valid_index()\n    M.iloc[i]['seq_stop'] = seq_stop\n\n    # Save the reactivity values, insert the mean value for NaN values\n    react = pandas_df.iloc[i]['reactivity_0001':'reactivity_0206'] # Gather the full reactivity values (including the NaN's)\n    react[react.isnull() == True] = react_mean # Make NaN values equal to global mean of reactivity values\n    react = np.array(react, dtype='float64')\n    M.iloc[i, init_cols:init_cols+len(react)] = react\n\n\n    #if bool(isnull_array.iloc[i,0]) + bool(isnull_array.iloc[i,1]) == 0:\n    M.iloc[i]['mod_seq_length'] = np.subtract(np.float64(M.iloc[i]['seq_stop'][-3:]), np.float64(M.iloc[i]['seq_start'][-3:]))\n\n# Drop rows and columns\nprint(M.shape)\nM = M.dropna(subset = ['seq_start', 'seq_stop', 'seq_length'])\nprint(M.shape)\n\n# Fill NaN values\nM = M.fillna(1) # Fill NaN values with =1\n#Norm_react = Norm_react.fillna(np.nanmean(Norm_react.iloc[:, 3:502].to_numpy())) # Fill NaN values with mean\n\n# Reset index:\nM.reset_index(drop=True, inplace=True)\n\nrows = len(M)\ncols = len(M.columns)",
      "metadata": {
        "cell_id": "349a0be29593465680503572c308997c",
        "deepnote_cell_type": "code"
      },
      "outputs": [],
      "execution_count": null,
      "block_group": "d1b05b50796f4c44a76c6b03032f7d41"
    },
    {
      "cell_type": "code",
      "source": "# Determine the \"average\" sequence to compare all other sequences to. E.g: {A,U,U,G,C ...}. \"V\" is for vacant, or empty, nucleotudes.\n\navg_seq = []\nseq_nuc = [\"A\", \"U\", \"G\", \"C\", \"V\"] # \"V\" is vacant nucleotide\n\nfor i in range(n):\n  counts = []\n  counts.append((M.iloc[:, (init_cols+n+i)] == 'A').sum())\n  counts.append((M.iloc[:, (init_cols+n+i)] == 'U').sum())\n  counts.append((M.iloc[:, (init_cols+n+i)] == 'G').sum())\n  counts.append((M.iloc[:, (init_cols+n+i)] == 'C').sum())\n  counts.append((M.iloc[:, (init_cols+n+i)] == 'V').sum())\n  avg_seq.append(seq_nuc[max(np.where(counts == max(counts), range(len(counts)), 0))])\n\nprint(avg_seq)",
      "metadata": {
        "cell_id": "9800f73e1f664677af17c94f7499a79e",
        "deepnote_cell_type": "code"
      },
      "outputs": [],
      "execution_count": null,
      "block_group": "233e2c9612bd4269a660699380b2c00e"
    },
    {
      "cell_type": "code",
      "source": "# Determine the average reactivity for each position\n\navg_react = np.zeros(n)\n\nfor i in range(n):\n  avg_react[i] = M.iloc[:,init_cols+i].sum()/rows",
      "metadata": {
        "cell_id": "0c5f44e08ce142d9ba5857388f4fdfd2",
        "deepnote_cell_type": "code"
      },
      "outputs": [],
      "execution_count": null,
      "block_group": "bac83d255945484dbe42d13ee5689058"
    },
    {
      "cell_type": "code",
      "source": "# Determine the cosine similarity for reactivities\n\ncos_sim_react = np.zeros(rows)\n\nfor i in range(rows):\n  stack = np.vstack((M.iloc[i,init_cols:init_cols+n], avg_react))\n  cos_sim_val = cosine_similarity(stack)\n  cos_sim_react[i] = cos_sim_val[1][0]\n\nprint(cos_sim)",
      "metadata": {
        "cell_id": "42f2c234fc004078ab2064fa9a3203a2",
        "deepnote_cell_type": "code"
      },
      "outputs": [],
      "execution_count": null,
      "block_group": "45c275961662425694788c788977bfbc"
    },
    {
      "cell_type": "code",
      "source": "# Create a new data frame to house to \"numeric\" sequence information. This will be used for cosine similarity calculation against the \"average\" sequence.\n\nmethod = 2 # Method 1 and method 2 differ in what numeric values are assigned to nucleotides\n\n# Make a copy of the dataframe\nN = M\n\n# Replace all characters with numeric value.\nif method == 1:\n  N.replace(\"V\", 0, inplace = True)\n  N.replace(\"A\", 0.25, inplace = True)\n  N.replace(\"U\", 0.5, inplace = True)\n  N.replace(\"G\", 0.75, inplace = True)\n  N.replace(\"C\", 1, inplace = True)\n\nif method == 2: # method based on number of possible hydrogen bond forming partners\n  N.replace(\"V\", 1, inplace = True) # also consider = 0\n  N.replace(\"A\", 0.61, inplace = True) # also consider = 2\n  N.replace(\"U\", 0.15, inplace = True) # also consider = 4\n  N.replace(\"G\", 0.08, inplace = True) # also consider = 5\n  N.replace(\"C\", 0.5, inplace = True) # also consider = 3\n\nprint(N.shape)\nN = N.drop(N.columns[range(n+init_cols)], axis = 1)\nprint(N.shape)",
      "metadata": {
        "cell_id": "0d0b3c0295e44d90885fb4259edd0c05",
        "deepnote_cell_type": "code"
      },
      "outputs": [],
      "execution_count": null,
      "block_group": "eafa0753e5ae42be8a75dc51f067335c"
    },
    {
      "cell_type": "code",
      "source": "# Determine cosine similarity and save values in single column vector:\n\navg_seq_cos = np.array(avg_seq)\n\nif method == 1:\n  avg_seq_cos[avg_seq_cos == \"V\"] = 0\n  avg_seq_cos[avg_seq_cos == \"A\"] = 0.25\n  avg_seq_cos[avg_seq_cos == \"U\"] = 0.5\n  avg_seq_cos[avg_seq_cos == \"G\"] = 0.75\n  avg_seq_cos[avg_seq_cos == \"C\"] = 1\n\nif method == 2:\n  avg_seq_cos[avg_seq_cos == \"V\"] = 0\n  avg_seq_cos[avg_seq_cos == \"A\"] = 2\n  avg_seq_cos[avg_seq_cos == \"U\"] = 4\n  avg_seq_cos[avg_seq_cos == \"G\"] = 5\n  avg_seq_cos[avg_seq_cos == \"C\"] = 3\n\nprint(avg_seq_cos)\n\ncos_sim = np.zeros(rows) # Store the cosine similarity values\n\nfor i in range(rows):\n  stack = np.vstack((N.iloc[i,:], avg_seq_cos))\n  cos_sim_val = cosine_similarity(stack)\n  cos_sim[i] = cos_sim_val[1][0]\n  counter = i\n\nprint(cos_sim)",
      "metadata": {
        "cell_id": "69ae380913e745e8ae944e0fca96df48",
        "deepnote_cell_type": "code"
      },
      "outputs": [],
      "execution_count": null,
      "block_group": "0710525f20c14c81bd8737d95af00a1b"
    },
    {
      "cell_type": "code",
      "source": "# Determine Levenshtein distance against the average sequence\n# Source: https://github.com/maxbachmann/Levenshtein.git\n# Max Bachmann, 2021\n\n%pip install levenshtein\nfrom Levenshtein import distance\n\nlev_vals = np.zeros(rows) # Store the Levenshtein distances against the average sequence\n\nfor i in range(rows):\n  lev_vals[i] = distance(M.iloc[i]['raw_seq'], avg_seq)",
      "metadata": {
        "cell_id": "9b72de91797d46d2b7aa877906a023eb",
        "deepnote_cell_type": "code"
      },
      "outputs": [],
      "execution_count": null,
      "block_group": "19a26151289b4a6fb7f05099a47c5d30"
    },
    {
      "cell_type": "markdown",
      "source": "### Clustering 4.1 - PCA",
      "metadata": {
        "formattedRanges": [],
        "cell_id": "df8f5872040a46339936179738b2ff40",
        "deepnote_cell_type": "text-cell-h3"
      },
      "block_group": "1e66f9c5a8a948c2a47742df521bccc7"
    },
    {
      "cell_type": "markdown",
      "source": "- Exploratory dimensionality reduction with PCA",
      "metadata": {
        "formattedRanges": [],
        "cell_id": "7f505ed117a74380b1e04c7a1d3f584f",
        "deepnote_cell_type": "text-cell-bullet"
      },
      "block_group": "6f3757b8e455477d8132dc8ca1f3bd30"
    },
    {
      "cell_type": "code",
      "source": "# PCA analysis on reactivites\n\nfrom sklearn.decomposition import PCA\nfrom sklearn.impute import SimpleImputer\n\n# Pre process the NaN values\n#imp = SimpleImputer(missing_values=np.nan, strategy='mean')\n\nX = M[M['mod_seq_length'] == unique_seq_len[0][1]]\nX = np.array(M.iloc[:, init_cols:init_cols+n])\n\n#X = imp.fit_transform(X)\npca = PCA(n_components=400)\npca.fit(X)\nPCA(n_components=500)\n#print(pca.explained_variance_ratio_)\n\nex_var_reposit = []\nfor i in range(500):\n  ex_var_reposit.append(sum(pca.explained_variance_ratio_[0:i]))\n",
      "metadata": {
        "cell_id": "86780043073b48e19390fb8ce880ec93",
        "deepnote_cell_type": "code"
      },
      "outputs": [],
      "execution_count": null,
      "block_group": "5a465401646a4fa68af46ad58411ca14"
    },
    {
      "cell_type": "markdown",
      "source": "### Baseline 4.2 - UMAP",
      "metadata": {
        "formattedRanges": [],
        "cell_id": "fc18065b9c7748efb9bb29bef87a4408",
        "deepnote_cell_type": "text-cell-h3"
      },
      "block_group": "e122943e1eb3423c92cefa47f2cc7327"
    },
    {
      "cell_type": "markdown",
      "source": "- Exploratory dimensionality reduction with UMAP clustering",
      "metadata": {
        "formattedRanges": [],
        "cell_id": "958d60db6ea740f9a432ec3f5ed5d8be",
        "deepnote_cell_type": "text-cell-bullet"
      },
      "block_group": "d97af502e47b4b979fec6e71b362aa49"
    },
    {
      "cell_type": "code",
      "source": "# UMAP plot\n\n#X = np.array(M.iloc[:, init_cols:init_cols+n])\nX = np.array(M.iloc[:, init_cols+n:init_cols+2*n])\nUMAP_data = StandardScaler().fit_transform(X)\n#X = imp.fit_transform(X)\nY = lev_vals\nprint(Y)\nstandard_embedding = umap.UMAP(random_state=42).fit_transform(UMAP_data)\n\n\n# Plot the UMAP results\n\nY = MAE_vals # This determines how each point is colored on the UMAP plot. Other option = cos_sim, lev_vals, M.iloc[:]['seq_length']. GC content? cos_sim_react\nlabels = Y\nplt.figure(figsize = [14, 10])\nplt.scatter(standard_embedding[:, 0], standard_embedding[:, 1], c = labels, s=0.2, cmap='rainbow');\n# Use 'total reactivity' as metric for labelling!\nplt.title('UMAP of Numeric RNA Sequences', fontsize = 24)\nplt.xlabel('UMAP 1', labelpad = 15, fontsize = 16)\nplt.ylabel('UMAP 2', labelpad = 15, fontsize = 16)\nplt.colorbar().set_label('Sequence length', labelpad = 15)\nplt.show()",
      "metadata": {
        "cell_id": "a8e261fc55a7459da19b8bd748c01296",
        "deepnote_cell_type": "code"
      },
      "outputs": [],
      "execution_count": null,
      "block_group": "bbce633ba46543e9b1c84572155292eb"
    },
    {
      "cell_type": "markdown",
      "source": "### Baseline 3.1",
      "metadata": {
        "formattedRanges": [],
        "cell_id": "d45ca5accb594f70bda52e88ba53ac2b",
        "deepnote_cell_type": "text-cell-h3"
      },
      "block_group": "01b018ae4bb945ee8f3d1a64688077f4"
    },
    {
      "cell_type": "markdown",
      "source": "- Normalize the sequence length so that variable lengths (e.g 178 nucleotides long or 206 nucleotides long) are normalized to a sequence of 500, with interpolated values as needed.",
      "metadata": {
        "formattedRanges": [],
        "cell_id": "1beac5b1c5594f4bb02e46ff2776526f",
        "deepnote_cell_type": "text-cell-bullet"
      },
      "block_group": "9abd54e35f4a4ab6be2ea4aa559a684c"
    },
    {
      "cell_type": "markdown",
      "source": "- Clip the reactivity values between [0,1]",
      "metadata": {
        "formattedRanges": [],
        "cell_id": "93488b0d59f34337b471cdcb7d11afa6",
        "deepnote_cell_type": "text-cell-bullet"
      },
      "block_group": "54216dc29394406d9e39513b72c574c9"
    },
    {
      "cell_type": "code",
      "source": " Reactivitiy of normalized sequence length starts here\n\nrows = len(pandas_df)\ncols = len(pandas_df.columns)\nn = 500 # normalization points - consider upscaling in final analysis\n\ncol_names = ['seq_start', 'seq_stop', 'seq_length']\n# Add new columns with normalized reactivity elements (500 sequences long)\nfor i in range(1, n+1):\n  col_names.append('reactivity_' + str(i))\n\nNorm_react = pd.DataFrame(columns = col_names, index = range(rows)) # Create empty data frame for reactivities\nNorm_react = pd.DataFrame(columns = col_names, index = range(rows)) # Create empty data frame for seq similarity\n\n# Question - does NaN mean 0 or no sequence?\nfor i in range(rows):\n\n  if pandas_df.iloc[i]['SN_filter'] == 1:\n\n    seq_nans = pandas_df.iloc[i,7:177].isna().sum() # Sum all of the NaN's\n    seq_len = len(pandas_df.iloc[i]['sequence'])\n\n    Norm_react.iloc[i]['seq_length'] = seq_len\n\n    seq_start = pandas_df.iloc[i, 7:177].first_valid_index()\n    Norm_react.iloc[i]['seq_start'] = seq_start\n\n    seq_stop = pandas_df.iloc[i, 7:177].last_valid_index()\n    Norm_react.iloc[i]['seq_stop'] = seq_stop\n\n    react = pandas_df.iloc[i]['reactivity_0001':seq_stop]\n    #react[react.isnull() == True] = 1 # Make NaN values equal to zero\n\n    react = np.array(react, dtype='float64')\n    react = np.clip(react, 0, 1) # clip values to between 0 and 1\n    # Inspied by image resizing/compression\n\n    x_interp = np.linspace(0,1,n)\n\n    react_norm = np.interp(x_interp, np.linspace(0,1,len(react)), react)\n    Norm_react.iloc[i,3:n+3] = react_norm",
      "metadata": {
        "cell_id": "09b85ded421e4e6abba9a10e2d5357ea",
        "deepnote_cell_type": "code"
      },
      "outputs": [],
      "execution_count": null,
      "block_group": "93255c7d4b81419bac28e59188699a9d"
    },
    {
      "cell_type": "markdown",
      "source": "<a style='text-decoration:none;line-height:16px;display:flex;color:#5B5B62;padding:10px;justify-content:end;' href='https://deepnote.com?utm_source=created-in-deepnote-cell&projectId=fe343e39-d2c0-4296-915d-091d9a42752d' target=\"_blank\">\n<img alt='Created in deepnote.com' style='display:inline;max-height:16px;margin:0px;margin-right:7.5px;' src='data:image/svg+xml;base64,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' > </img>\nCreated in <span style='font-weight:600;margin-left:4px;'>Deepnote</span></a>",
      "metadata": {
        "created_in_deepnote_cell": true,
        "deepnote_cell_type": "markdown"
      }
    }
  ],
  "nbformat": 4,
  "nbformat_minor": 0,
  "metadata": {
    "deepnote": {},
    "orig_nbformat": 2,
    "deepnote_notebook_id": "8561cb642deb47b29579f40b6222d3a6",
    "deepnote_execution_queue": []
  }
}