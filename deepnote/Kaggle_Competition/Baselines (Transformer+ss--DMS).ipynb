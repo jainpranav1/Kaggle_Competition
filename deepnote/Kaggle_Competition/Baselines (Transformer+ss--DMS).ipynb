{
  "cells": [
    {
      "cell_type": "code",
      "source": "# import the libraries\nimport numpy as np\nimport dask.dataframe as dd\nfrom dask.diagnostics import ProgressBar\nfrom itertools import product\nimport matplotlib.pyplot as plt",
      "metadata": {
        "tags": [],
        "execution": {
          "iopub.status.busy": "2023-12-17T04:26:07.903775Z",
          "iopub.status.idle": "2023-12-17T04:26:11.465971Z",
          "iopub.execute_input": "2023-12-17T04:26:07.904064Z",
          "shell.execute_reply": "2023-12-17T04:26:11.465160Z"
        },
        "papermill": {
          "status": "completed",
          "duration": 3.571272,
          "end_time": "2023-12-17T04:26:11.468208",
          "exception": false,
          "start_time": "2023-12-17T04:26:07.896936"
        },
        "cell_id": "3ef413ac8f2c4f0e96e3b4be11bc0882",
        "deepnote_cell_type": "code"
      },
      "outputs": [
        {
          "name": "stderr",
          "output_type": "stream",
          "text": "/opt/conda/lib/python3.10/site-packages/dask/dataframe/_pyarrow_compat.py:23: UserWarning: You are using pyarrow version 11.0.0 which is known to be insecure. See https://www.cve.org/CVERecord?id=CVE-2023-47248 for further details. Please upgrade to pyarrow>=14.0.1 or install pyarrow-hotfix to patch your current version.\n  warnings.warn(\n/opt/conda/lib/python3.10/site-packages/scipy/__init__.py:146: UserWarning: A NumPy version >=1.16.5 and <1.23.0 is required for this version of SciPy (detected version 1.24.3\n  warnings.warn(f\"A NumPy version >={np_minversion} and <{np_maxversion}\"\n"
        }
      ],
      "execution_count": 1,
      "block_group": "2563812c475541ef96a73cf412d3211e"
    },
    {
      "cell_type": "code",
      "source": "# import, shuffle, and see the data\nddf = dd.read_csv('/kaggle/input/test-and-train-punpaired-dataset/train_data_p_unp.csv').iloc[:, 1:]\nshfl_ddf = ddf.sample(frac = 1, random_state = 42)\nshfl_ddf.head()",
      "metadata": {
        "tags": [],
        "execution": {
          "iopub.status.busy": "2023-12-17T04:26:11.481672Z",
          "iopub.status.idle": "2023-12-17T04:26:14.593398Z",
          "iopub.execute_input": "2023-12-17T04:26:11.482204Z",
          "shell.execute_reply": "2023-12-17T04:26:14.592522Z"
        },
        "papermill": {
          "status": "completed",
          "duration": 3.121049,
          "end_time": "2023-12-17T04:26:14.595873",
          "exception": false,
          "start_time": "2023-12-17T04:26:11.474824"
        },
        "cell_id": "6de4b4248c704a328c660ffad9efb196",
        "deepnote_cell_type": "code"
      },
      "outputs": [
        {
          "data": {
            "text/html": "<div>\n<style scoped>\n    .dataframe tbody tr th:only-of-type {\n        vertical-align: middle;\n    }\n\n    .dataframe tbody tr th {\n        vertical-align: top;\n    }\n\n    .dataframe thead th {\n        text-align: right;\n    }\n</style>\n<table border=\"1\" class=\"dataframe\">\n  <thead>\n    <tr style=\"text-align: right;\">\n      <th></th>\n      <th>sequence_id</th>\n      <th>sequence</th>\n      <th>experiment_type</th>\n      <th>dataset_name</th>\n      <th>reads</th>\n      <th>signal_to_noise</th>\n      <th>SN_filter</th>\n      <th>reactivity_0001</th>\n      <th>reactivity_0002</th>\n      <th>reactivity_0003</th>\n      <th>...</th>\n      <th>p_unp_197</th>\n      <th>p_unp_198</th>\n      <th>p_unp_199</th>\n      <th>p_unp_200</th>\n      <th>p_unp_201</th>\n      <th>p_unp_202</th>\n      <th>p_unp_203</th>\n      <th>p_unp_204</th>\n      <th>p_unp_205</th>\n      <th>p_unp_206</th>\n    </tr>\n  </thead>\n  <tbody>\n    <tr>\n      <th>5420</th>\n      <td>ab587c2d24eb</td>\n      <td>GGGAACGACUCGAGUAGAGUCGAAAAGGCCUAGGGCGGGCGGGAAU...</td>\n      <td>DMS_MaP</td>\n      <td>DasLabBigLib_OneMil_OpenKnot_Round_2_train_DMS</td>\n      <td>0</td>\n      <td>0.000</td>\n      <td>0</td>\n      <td>NaN</td>\n      <td>NaN</td>\n      <td>NaN</td>\n      <td>...</td>\n      <td>1.0</td>\n      <td>1.0</td>\n      <td>1.0</td>\n      <td>1.0</td>\n      <td>1.0</td>\n      <td>1.0</td>\n      <td>1.0</td>\n      <td>1.0</td>\n      <td>1.0</td>\n      <td>1.0</td>\n    </tr>\n    <tr>\n      <th>16450</th>\n      <td>309b8583b119</td>\n      <td>GGGAACGACUCGAGUAGAGUCGAAAAAAGACCUACAUACAUUGUAU...</td>\n      <td>2A3_MaP</td>\n      <td>DasLabBigLib_OneMil_Coronavirus_genomes_SARS_r...</td>\n      <td>162</td>\n      <td>0.538</td>\n      <td>0</td>\n      <td>NaN</td>\n      <td>NaN</td>\n      <td>NaN</td>\n      <td>...</td>\n      <td>1.0</td>\n      <td>1.0</td>\n      <td>1.0</td>\n      <td>1.0</td>\n      <td>1.0</td>\n      <td>1.0</td>\n      <td>1.0</td>\n      <td>1.0</td>\n      <td>1.0</td>\n      <td>1.0</td>\n    </tr>\n    <tr>\n      <th>4544</th>\n      <td>4ed1f0557392</td>\n      <td>GGGAACGACUCGAGUAGAGUCGAAAAGCUGAUUGCCUGGCGGCUAC...</td>\n      <td>2A3_MaP</td>\n      <td>DasLabBigLib_OneMil_OpenKnot_Round_2_train_2A3</td>\n      <td>702</td>\n      <td>1.553</td>\n      <td>1</td>\n      <td>NaN</td>\n      <td>NaN</td>\n      <td>NaN</td>\n      <td>...</td>\n      <td>1.0</td>\n      <td>1.0</td>\n      <td>1.0</td>\n      <td>1.0</td>\n      <td>1.0</td>\n      <td>1.0</td>\n      <td>1.0</td>\n      <td>1.0</td>\n      <td>1.0</td>\n      <td>1.0</td>\n    </tr>\n    <tr>\n      <th>17837</th>\n      <td>93235436cac4</td>\n      <td>GGGAACGACUCGAGUAGAGUCGAAAAAUUAUUAGAAGGGGGUAAUG...</td>\n      <td>2A3_MaP</td>\n      <td>DasLabBigLib_OneMil_OpenKnot_Round_2_train_2A3</td>\n      <td>3</td>\n      <td>0.000</td>\n      <td>0</td>\n      <td>NaN</td>\n      <td>NaN</td>\n      <td>NaN</td>\n      <td>...</td>\n      <td>1.0</td>\n      <td>1.0</td>\n      <td>1.0</td>\n      <td>1.0</td>\n      <td>1.0</td>\n      <td>1.0</td>\n      <td>1.0</td>\n      <td>1.0</td>\n      <td>1.0</td>\n      <td>1.0</td>\n    </tr>\n    <tr>\n      <th>14752</th>\n      <td>969913b8537c</td>\n      <td>GGGAACGACUCGAGUAGAGUCGAAAACAUGGUCACCACUGUUGGCG...</td>\n      <td>2A3_MaP</td>\n      <td>DasLabBigLib_OneMil_Coronavirus_genomes_SARS_r...</td>\n      <td>504</td>\n      <td>0.910</td>\n      <td>0</td>\n      <td>NaN</td>\n      <td>NaN</td>\n      <td>NaN</td>\n      <td>...</td>\n      <td>1.0</td>\n      <td>1.0</td>\n      <td>1.0</td>\n      <td>1.0</td>\n      <td>1.0</td>\n      <td>1.0</td>\n      <td>1.0</td>\n      <td>1.0</td>\n      <td>1.0</td>\n      <td>1.0</td>\n    </tr>\n  </tbody>\n</table>\n<p>5 rows × 625 columns</p>\n</div>",
            "text/plain": "        sequence_id                                           sequence  \\\n5420   ab587c2d24eb  GGGAACGACUCGAGUAGAGUCGAAAAGGCCUAGGGCGGGCGGGAAU...   \n16450  309b8583b119  GGGAACGACUCGAGUAGAGUCGAAAAAAGACCUACAUACAUUGUAU...   \n4544   4ed1f0557392  GGGAACGACUCGAGUAGAGUCGAAAAGCUGAUUGCCUGGCGGCUAC...   \n17837  93235436cac4  GGGAACGACUCGAGUAGAGUCGAAAAAUUAUUAGAAGGGGGUAAUG...   \n14752  969913b8537c  GGGAACGACUCGAGUAGAGUCGAAAACAUGGUCACCACUGUUGGCG...   \n\n      experiment_type                                       dataset_name  \\\n5420          DMS_MaP     DasLabBigLib_OneMil_OpenKnot_Round_2_train_DMS   \n16450         2A3_MaP  DasLabBigLib_OneMil_Coronavirus_genomes_SARS_r...   \n4544          2A3_MaP     DasLabBigLib_OneMil_OpenKnot_Round_2_train_2A3   \n17837         2A3_MaP     DasLabBigLib_OneMil_OpenKnot_Round_2_train_2A3   \n14752         2A3_MaP  DasLabBigLib_OneMil_Coronavirus_genomes_SARS_r...   \n\n       reads  signal_to_noise  SN_filter  reactivity_0001  reactivity_0002  \\\n5420       0            0.000          0              NaN              NaN   \n16450    162            0.538          0              NaN              NaN   \n4544     702            1.553          1              NaN              NaN   \n17837      3            0.000          0              NaN              NaN   \n14752    504            0.910          0              NaN              NaN   \n\n       reactivity_0003  ...  p_unp_197  p_unp_198  p_unp_199  p_unp_200  \\\n5420               NaN  ...        1.0        1.0        1.0        1.0   \n16450              NaN  ...        1.0        1.0        1.0        1.0   \n4544               NaN  ...        1.0        1.0        1.0        1.0   \n17837              NaN  ...        1.0        1.0        1.0        1.0   \n14752              NaN  ...        1.0        1.0        1.0        1.0   \n\n       p_unp_201  p_unp_202  p_unp_203  p_unp_204  p_unp_205  p_unp_206  \n5420         1.0        1.0        1.0        1.0        1.0        1.0  \n16450        1.0        1.0        1.0        1.0        1.0        1.0  \n4544         1.0        1.0        1.0        1.0        1.0        1.0  \n17837        1.0        1.0        1.0        1.0        1.0        1.0  \n14752        1.0        1.0        1.0        1.0        1.0        1.0  \n\n[5 rows x 625 columns]"
          },
          "execution_count": 2,
          "metadata": {},
          "output_type": "execute_result"
        }
      ],
      "execution_count": 2,
      "block_group": "24624d04029e424c96d18f396581c09e"
    },
    {
      "cell_type": "code",
      "source": "dms_ddf = ddf.loc[ddf['experiment_type'] == \"DMS_MaP\"]\ntwoa3_ddf = ddf.loc[ddf['experiment_type'] == \"2A3_MaP\"]\ndms_ddf.head()",
      "metadata": {
        "tags": [],
        "execution": {
          "iopub.status.busy": "2023-12-17T04:26:14.609234Z",
          "iopub.status.idle": "2023-12-17T04:26:16.498047Z",
          "iopub.execute_input": "2023-12-17T04:26:14.609819Z",
          "shell.execute_reply": "2023-12-17T04:26:16.497257Z"
        },
        "papermill": {
          "status": "completed",
          "duration": 1.897985,
          "end_time": "2023-12-17T04:26:16.500158",
          "exception": false,
          "start_time": "2023-12-17T04:26:14.602173"
        },
        "cell_id": "a5ce04df36494b80b72cf9ce0a685fb2",
        "deepnote_cell_type": "code"
      },
      "outputs": [
        {
          "data": {
            "text/html": "<div>\n<style scoped>\n    .dataframe tbody tr th:only-of-type {\n        vertical-align: middle;\n    }\n\n    .dataframe tbody tr th {\n        vertical-align: top;\n    }\n\n    .dataframe thead th {\n        text-align: right;\n    }\n</style>\n<table border=\"1\" class=\"dataframe\">\n  <thead>\n    <tr style=\"text-align: right;\">\n      <th></th>\n      <th>sequence_id</th>\n      <th>sequence</th>\n      <th>experiment_type</th>\n      <th>dataset_name</th>\n      <th>reads</th>\n      <th>signal_to_noise</th>\n      <th>SN_filter</th>\n      <th>reactivity_0001</th>\n      <th>reactivity_0002</th>\n      <th>reactivity_0003</th>\n      <th>...</th>\n      <th>p_unp_197</th>\n      <th>p_unp_198</th>\n      <th>p_unp_199</th>\n      <th>p_unp_200</th>\n      <th>p_unp_201</th>\n      <th>p_unp_202</th>\n      <th>p_unp_203</th>\n      <th>p_unp_204</th>\n      <th>p_unp_205</th>\n      <th>p_unp_206</th>\n    </tr>\n  </thead>\n  <tbody>\n    <tr>\n      <th>14</th>\n      <td>70cdf97f6392</td>\n      <td>GGGAACGACUCGAGUAGAGUCGAAAACCUGGAGGAGGAUGGAACAC...</td>\n      <td>DMS_MaP</td>\n      <td>PK50_AltChemMap_NovaSeq_DMS</td>\n      <td>103505</td>\n      <td>35.334</td>\n      <td>1</td>\n      <td>NaN</td>\n      <td>NaN</td>\n      <td>NaN</td>\n      <td>...</td>\n      <td>1.0</td>\n      <td>1.0</td>\n      <td>1.0</td>\n      <td>1.0</td>\n      <td>1.0</td>\n      <td>1.0</td>\n      <td>1.0</td>\n      <td>1.0</td>\n      <td>1.0</td>\n      <td>1.0</td>\n    </tr>\n    <tr>\n      <th>15</th>\n      <td>bad76a72215c</td>\n      <td>GGGAACGACUCGAGUAGAGUCGAAAAUAAAUUCAGCGGUAAUUCCU...</td>\n      <td>DMS_MaP</td>\n      <td>PK50_AltChemMap_NovaSeq_DMS</td>\n      <td>12725</td>\n      <td>8.874</td>\n      <td>1</td>\n      <td>NaN</td>\n      <td>NaN</td>\n      <td>NaN</td>\n      <td>...</td>\n      <td>1.0</td>\n      <td>1.0</td>\n      <td>1.0</td>\n      <td>1.0</td>\n      <td>1.0</td>\n      <td>1.0</td>\n      <td>1.0</td>\n      <td>1.0</td>\n      <td>1.0</td>\n      <td>1.0</td>\n    </tr>\n    <tr>\n      <th>16</th>\n      <td>f037cc8df765</td>\n      <td>GGGAACGACUCGAGUAGAGUCGAAAAUACCGAGAAAGAUCCUCGGU...</td>\n      <td>DMS_MaP</td>\n      <td>PK50_AltChemMap_NovaSeq_DMS</td>\n      <td>60600</td>\n      <td>24.826</td>\n      <td>1</td>\n      <td>NaN</td>\n      <td>NaN</td>\n      <td>NaN</td>\n      <td>...</td>\n      <td>1.0</td>\n      <td>1.0</td>\n      <td>1.0</td>\n      <td>1.0</td>\n      <td>1.0</td>\n      <td>1.0</td>\n      <td>1.0</td>\n      <td>1.0</td>\n      <td>1.0</td>\n      <td>1.0</td>\n    </tr>\n    <tr>\n      <th>17</th>\n      <td>e63fe5ebb069</td>\n      <td>GGGAACGACUCGAGUAGAGUCGAAAACGGGCAAACUAGAAAAGCCC...</td>\n      <td>DMS_MaP</td>\n      <td>PK50_AltChemMap_NovaSeq_DMS</td>\n      <td>16034</td>\n      <td>13.426</td>\n      <td>1</td>\n      <td>NaN</td>\n      <td>NaN</td>\n      <td>NaN</td>\n      <td>...</td>\n      <td>1.0</td>\n      <td>1.0</td>\n      <td>1.0</td>\n      <td>1.0</td>\n      <td>1.0</td>\n      <td>1.0</td>\n      <td>1.0</td>\n      <td>1.0</td>\n      <td>1.0</td>\n      <td>1.0</td>\n    </tr>\n    <tr>\n      <th>18</th>\n      <td>a4a9f51c982e</td>\n      <td>GGGAACGACUCGAGUAGAGUCGAAAAGGGUCCAGCCUGGAAAGGCU...</td>\n      <td>DMS_MaP</td>\n      <td>PK50_AltChemMap_NovaSeq_DMS</td>\n      <td>306828</td>\n      <td>41.648</td>\n      <td>1</td>\n      <td>NaN</td>\n      <td>NaN</td>\n      <td>NaN</td>\n      <td>...</td>\n      <td>1.0</td>\n      <td>1.0</td>\n      <td>1.0</td>\n      <td>1.0</td>\n      <td>1.0</td>\n      <td>1.0</td>\n      <td>1.0</td>\n      <td>1.0</td>\n      <td>1.0</td>\n      <td>1.0</td>\n    </tr>\n  </tbody>\n</table>\n<p>5 rows × 625 columns</p>\n</div>",
            "text/plain": "     sequence_id                                           sequence  \\\n14  70cdf97f6392  GGGAACGACUCGAGUAGAGUCGAAAACCUGGAGGAGGAUGGAACAC...   \n15  bad76a72215c  GGGAACGACUCGAGUAGAGUCGAAAAUAAAUUCAGCGGUAAUUCCU...   \n16  f037cc8df765  GGGAACGACUCGAGUAGAGUCGAAAAUACCGAGAAAGAUCCUCGGU...   \n17  e63fe5ebb069  GGGAACGACUCGAGUAGAGUCGAAAACGGGCAAACUAGAAAAGCCC...   \n18  a4a9f51c982e  GGGAACGACUCGAGUAGAGUCGAAAAGGGUCCAGCCUGGAAAGGCU...   \n\n   experiment_type                 dataset_name   reads  signal_to_noise  \\\n14         DMS_MaP  PK50_AltChemMap_NovaSeq_DMS  103505           35.334   \n15         DMS_MaP  PK50_AltChemMap_NovaSeq_DMS   12725            8.874   \n16         DMS_MaP  PK50_AltChemMap_NovaSeq_DMS   60600           24.826   \n17         DMS_MaP  PK50_AltChemMap_NovaSeq_DMS   16034           13.426   \n18         DMS_MaP  PK50_AltChemMap_NovaSeq_DMS  306828           41.648   \n\n    SN_filter  reactivity_0001  reactivity_0002  reactivity_0003  ...  \\\n14          1              NaN              NaN              NaN  ...   \n15          1              NaN              NaN              NaN  ...   \n16          1              NaN              NaN              NaN  ...   \n17          1              NaN              NaN              NaN  ...   \n18          1              NaN              NaN              NaN  ...   \n\n    p_unp_197  p_unp_198  p_unp_199  p_unp_200  p_unp_201  p_unp_202  \\\n14        1.0        1.0        1.0        1.0        1.0        1.0   \n15        1.0        1.0        1.0        1.0        1.0        1.0   \n16        1.0        1.0        1.0        1.0        1.0        1.0   \n17        1.0        1.0        1.0        1.0        1.0        1.0   \n18        1.0        1.0        1.0        1.0        1.0        1.0   \n\n    p_unp_203  p_unp_204  p_unp_205  p_unp_206  \n14        1.0        1.0        1.0        1.0  \n15        1.0        1.0        1.0        1.0  \n16        1.0        1.0        1.0        1.0  \n17        1.0        1.0        1.0        1.0  \n18        1.0        1.0        1.0        1.0  \n\n[5 rows x 625 columns]"
          },
          "execution_count": 3,
          "metadata": {},
          "output_type": "execute_result"
        }
      ],
      "execution_count": 3,
      "block_group": "7f2b9968b63e4a40a6c80f1253d4f6db"
    },
    {
      "cell_type": "code",
      "source": "# Modified version to account for probability of unpaired bases from secondary structure predictor\nbases={'A':0, 'C':1, 'G':2, 'U':3 }\n\ndef one_hot(string, p_unpaired):\n\n    res = np.zeros((5, 206), # Now there are 5 rows in the input vector, 206 is maximum length\n                   dtype=np.float32)\n    res[4, :] = 1\n\n    for j in range(len(string)):\n        if string[j] in bases: # bases can be 'N' signifying missing: this corresponds to all 0 in the encoding\n            res[ bases[ string[j] ], j ]= 1.\n        res[4, j] = p_unpaired[j]\n\n    return res",
      "metadata": {
        "tags": [],
        "execution": {
          "iopub.status.busy": "2023-12-17T04:26:16.514860Z",
          "iopub.status.idle": "2023-12-17T04:26:16.521403Z",
          "iopub.execute_input": "2023-12-17T04:26:16.515598Z",
          "shell.execute_reply": "2023-12-17T04:26:16.520567Z"
        },
        "papermill": {
          "status": "completed",
          "duration": 0.016094,
          "end_time": "2023-12-17T04:26:16.523379",
          "exception": false,
          "start_time": "2023-12-17T04:26:16.507285"
        },
        "cell_id": "e2f58e0762b24f0191a4bd4396921b60",
        "deepnote_cell_type": "code"
      },
      "outputs": [],
      "execution_count": 4,
      "block_group": "d0d385cfa2c24842af035d303541ced7"
    },
    {
      "cell_type": "code",
      "source": "# For p_unpaired data (changed the yield output)\nimport torch\nimport torch.nn as nn\nimport torch.nn.functional as F\n\nclass BedPeaksDataset(torch.utils.data.IterableDataset):\n\n    def __init__(self, seq, p_unpaired, reactivities):\n        super(BedPeaksDataset, self).__init__()\n        self.seq = seq\n        self.reactivities = reactivities\n        self.p_unpaired = p_unpaired\n\n    def __iter__(self):\n        for i in range(len(self.seq)):\n            yield(one_hot(self.seq[i], self.p_unpaired[i]), self.reactivities[i]) # positive example",
      "metadata": {
        "tags": [],
        "execution": {
          "iopub.status.busy": "2023-12-17T04:26:16.537084Z",
          "iopub.status.idle": "2023-12-17T04:26:19.351466Z",
          "iopub.execute_input": "2023-12-17T04:26:16.537749Z",
          "shell.execute_reply": "2023-12-17T04:26:19.350658Z"
        },
        "papermill": {
          "status": "completed",
          "duration": 2.824,
          "end_time": "2023-12-17T04:26:19.353869",
          "exception": false,
          "start_time": "2023-12-17T04:26:16.529869"
        },
        "cell_id": "eb80b494abe34ba0b86d89982cae018e",
        "deepnote_cell_type": "code"
      },
      "outputs": [],
      "execution_count": 5,
      "block_group": "e2192d8aa103476b8ea73fb880306e04"
    },
    {
      "cell_type": "code",
      "source": "def run_one_epoch(train_flag, dataloader, cnn_1d, optimizer, device=\"cuda\"):\n\n    torch.set_grad_enabled(train_flag)\n    cnn_1d.train() if train_flag else cnn_1d.eval()\n\n    losses = []\n    accuracies = []\n\n    size = len(dataloader.dataset.seq)\n    for batch, (x,y) in enumerate(dataloader): # collection of tuples with iterator\n        x = x.float()\n        y = y.float()\n        (x, y) = ( x.to(device), y.to(device) ) # transfer data to GPU\n\n        output = cnn_1d(x,y) # forward pass\n        output = output.squeeze() # remove spurious channel dimension\n        loss = F.mse_loss(output, y).float()\n\n        if train_flag:\n            loss.backward() # back propagation\n            optimizer.step()\n            optimizer.zero_grad()\n            \n            #current = batch * len(x)\n            #print(f\"[{current:>5d}/{size:>5d}]\")\n\n        losses.append(loss.detach().cpu().numpy())\n\n    return( np.mean(losses))",
      "metadata": {
        "tags": [],
        "execution": {
          "iopub.status.busy": "2023-12-17T04:26:19.368016Z",
          "iopub.status.idle": "2023-12-17T04:26:19.376231Z",
          "iopub.execute_input": "2023-12-17T04:26:19.368645Z",
          "shell.execute_reply": "2023-12-17T04:26:19.375374Z"
        },
        "papermill": {
          "status": "completed",
          "duration": 0.017644,
          "end_time": "2023-12-17T04:26:19.378196",
          "exception": false,
          "start_time": "2023-12-17T04:26:19.360552"
        },
        "cell_id": "122c718f2a9f4e8b920f8436e5edd086",
        "deepnote_cell_type": "code"
      },
      "outputs": [],
      "execution_count": 6,
      "block_group": "41b8d9c332a64518b22f7019a5100f18"
    },
    {
      "cell_type": "code",
      "source": "def train_model(cnn_1d, train_dataloader, valid_dataloader, epochs=100, patience=10, verbose = True, lr = 0.001, weight_decay = 0):\n    \"\"\"\n    Train a 1D CNN model and record accuracy metrics.\n    \"\"\"\n    # Move the model to the GPU here to make it runs there, and set \"device\" as above\n    # TODO CODE\n    device = torch.device(\"cuda\" if torch.cuda.is_available() else \"cpu\")\n    cnn_1d.to(device)\n\n    # 1. Make new BedPeakDataset and DataLoader objects for both training and validation data.\n    # TODO CODE\n    # train_dataset = BedPeaksDataset(train_data, genome, cnn_1d.seq_len)\n    # train_dataloader = torch.utils.data.DataLoader(train_dataset, batch_size=10, num_workers = 0)\n    # validation_dataset = BedPeaksDataset(validation_data, genome, cnn_1d.seq_len)\n    # validation_dataloader = torch.utils.data.DataLoader(validation_dataset, batch_size=1000)\n\n    # 2. Instantiates an optimizer for the model.\n    # TODO CODE\n    optimizer = torch.optim.Adam(cnn_1d.parameters(), amsgrad=True, lr = lr, weight_decay = weight_decay)\n\n    # 3. Run the training loop with early stopping.\n    # TODO CODE\n    train_losses = []\n    valid_losses = []\n    # patience_counter = patience\n    best_valid_loss = np.inf\n    check_point_filename = 'cnn_1d_checkpoint.pt' # to save the best model fit to date\n    for epoch in range(epochs):\n        start_time = timeit.default_timer()\n        train_loss = run_one_epoch(True, train_dataloader, cnn_1d, optimizer, device)\n        valid_loss = run_one_epoch(False, valid_dataloader, cnn_1d, optimizer, device)\n        train_losses.append(train_loss)\n        valid_losses.append(valid_loss)\n        if valid_loss < best_valid_loss:\n            torch.save(cnn_1d.state_dict(), check_point_filename)\n            best_valid_loss = valid_loss\n            patience_counter = patience\n        else:\n            patience_counter -= 1\n            if patience_counter <= 0:\n                cnn_1d.load_state_dict(torch.load(check_point_filename)) # recover the best model so far\n                break\n        elapsed = float(timeit.default_timer() - start_time)\n        print(\"Epoch {} took {:.2f}s. Train loss: {:.4f}., Valid loss: {:.4f}. Patience: {}\".format(epoch+1, elapsed, train_loss, valid_loss, patience_counter))\n\n    # 4. Return the fitted model (not strictly necessary since this happens \"in place\"), train and validation accuracies.\n    # TODO CODE\n    return(cnn_1d, train_losses, valid_losses)",
      "metadata": {
        "tags": [],
        "execution": {
          "iopub.status.busy": "2023-12-17T04:26:19.391972Z",
          "iopub.status.idle": "2023-12-17T04:26:19.402532Z",
          "iopub.execute_input": "2023-12-17T04:26:19.392268Z",
          "shell.execute_reply": "2023-12-17T04:26:19.401670Z"
        },
        "papermill": {
          "status": "completed",
          "duration": 0.019817,
          "end_time": "2023-12-17T04:26:19.404569",
          "exception": false,
          "start_time": "2023-12-17T04:26:19.384752"
        },
        "cell_id": "a2bc0e34b7d94f07b2af5f350bb0ed53",
        "deepnote_cell_type": "code"
      },
      "outputs": [],
      "execution_count": 7,
      "block_group": "6fc7547210e646e28f4612671cc6cee7"
    },
    {
      "cell_type": "code",
      "source": "! pip install dask_ml",
      "metadata": {
        "tags": [],
        "execution": {
          "iopub.status.busy": "2023-12-17T04:26:19.418817Z",
          "iopub.status.idle": "2023-12-17T04:26:32.927228Z",
          "iopub.execute_input": "2023-12-17T04:26:19.419099Z",
          "shell.execute_reply": "2023-12-17T04:26:32.926207Z"
        },
        "papermill": {
          "status": "completed",
          "duration": 13.518363,
          "end_time": "2023-12-17T04:26:32.929623",
          "exception": false,
          "start_time": "2023-12-17T04:26:19.411260"
        },
        "cell_id": "9f92ab76dc3a4d21b6c530b3737e292e",
        "deepnote_cell_type": "code"
      },
      "outputs": [
        {
          "name": "stdout",
          "output_type": "stream",
          "text": "Collecting dask_ml\r\n  Downloading dask_ml-2023.3.24-py3-none-any.whl (148 kB)\r\n\u001b[2K     \u001b[90m━━━━━━━━━━━━━━━━━━━━━━━━━━━━━━━━━━━━━━━\u001b[0m \u001b[32m148.7/148.7 kB\u001b[0m \u001b[31m5.6 MB/s\u001b[0m eta \u001b[36m0:00:00\u001b[0m\r\n\u001b[?25hRequirement already satisfied: dask[array,dataframe]>=2.4.0 in /opt/conda/lib/python3.10/site-packages (from dask_ml) (2023.12.0)\r\nRequirement already satisfied: distributed>=2.4.0 in /opt/conda/lib/python3.10/site-packages (from dask_ml) (2023.12.0)\r\nRequirement already satisfied: numba>=0.51.0 in /opt/conda/lib/python3.10/site-packages (from dask_ml) (0.57.1)\r\nRequirement already satisfied: numpy>=1.20.0 in /opt/conda/lib/python3.10/site-packages (from dask_ml) (1.24.3)\r\nRequirement already satisfied: pandas>=0.24.2 in /opt/conda/lib/python3.10/site-packages (from dask_ml) (2.0.3)\r\nRequirement already satisfied: scikit-learn>=1.2.0 in /opt/conda/lib/python3.10/site-packages (from dask_ml) (1.2.2)\r\nRequirement already satisfied: scipy in /opt/conda/lib/python3.10/site-packages (from dask_ml) (1.11.4)\r\nCollecting dask-glm>=0.2.0 (from dask_ml)\r\n  Obtaining dependency information for dask-glm>=0.2.0 from https://files.pythonhosted.org/packages/8a/8e/cd1502dd2d00d54fb3e10880d4c8cb6699320a239da7a39c9f55044afdee/dask_glm-0.3.2-py2.py3-none-any.whl.metadata\r\n  Downloading dask_glm-0.3.2-py2.py3-none-any.whl.metadata (1.5 kB)\r\nRequirement already satisfied: multipledispatch>=0.4.9 in /opt/conda/lib/python3.10/site-packages (from dask_ml) (1.0.0)\r\nRequirement already satisfied: packaging in /opt/conda/lib/python3.10/site-packages (from dask_ml) (21.3)\r\nRequirement already satisfied: cloudpickle>=0.2.2 in /opt/conda/lib/python3.10/site-packages (from dask-glm>=0.2.0->dask_ml) (2.2.1)\r\nCollecting sparse>=0.7.0 (from dask-glm>=0.2.0->dask_ml)\r\n  Downloading sparse-0.14.0-py2.py3-none-any.whl (80 kB)\r\n\u001b[2K     \u001b[90m━━━━━━━━━━━━━━━━━━━━━━━━━━━━━━━━━━━━━━━━\u001b[0m \u001b[32m81.0/81.0 kB\u001b[0m \u001b[31m8.1 MB/s\u001b[0m eta \u001b[36m0:00:00\u001b[0m\r\n\u001b[?25hRequirement already satisfied: click>=8.1 in /opt/conda/lib/python3.10/site-packages (from dask[array,dataframe]>=2.4.0->dask_ml) (8.1.7)\r\nRequirement already satisfied: fsspec>=2021.09.0 in /opt/conda/lib/python3.10/site-packages (from dask[array,dataframe]>=2.4.0->dask_ml) (2023.12.2)\r\nRequirement already satisfied: partd>=1.2.0 in /opt/conda/lib/python3.10/site-packages (from dask[array,dataframe]>=2.4.0->dask_ml) (1.4.1)\r\nRequirement already satisfied: pyyaml>=5.3.1 in /opt/conda/lib/python3.10/site-packages (from dask[array,dataframe]>=2.4.0->dask_ml) (6.0.1)\r\nRequirement already satisfied: toolz>=0.10.0 in /opt/conda/lib/python3.10/site-packages (from dask[array,dataframe]>=2.4.0->dask_ml) (0.12.0)\r\nRequirement already satisfied: importlib-metadata>=4.13.0 in /opt/conda/lib/python3.10/site-packages (from dask[array,dataframe]>=2.4.0->dask_ml) (6.8.0)\r\nRequirement already satisfied: jinja2>=2.10.3 in /opt/conda/lib/python3.10/site-packages (from distributed>=2.4.0->dask_ml) (3.1.2)\r\nRequirement already satisfied: locket>=1.0.0 in /opt/conda/lib/python3.10/site-packages (from distributed>=2.4.0->dask_ml) (1.0.0)\r\nRequirement already satisfied: msgpack>=1.0.0 in /opt/conda/lib/python3.10/site-packages (from distributed>=2.4.0->dask_ml) (1.0.5)\r\nRequirement already satisfied: psutil>=5.7.2 in /opt/conda/lib/python3.10/site-packages (from distributed>=2.4.0->dask_ml) (5.9.3)\r\nRequirement already satisfied: sortedcontainers>=2.0.5 in /opt/conda/lib/python3.10/site-packages (from distributed>=2.4.0->dask_ml) (2.4.0)\r\nRequirement already satisfied: tblib>=1.6.0 in /opt/conda/lib/python3.10/site-packages (from distributed>=2.4.0->dask_ml) (3.0.0)\r\nRequirement already satisfied: tornado>=6.0.4 in /opt/conda/lib/python3.10/site-packages (from distributed>=2.4.0->dask_ml) (6.3.3)\r\nRequirement already satisfied: urllib3>=1.24.3 in /opt/conda/lib/python3.10/site-packages (from distributed>=2.4.0->dask_ml) (1.26.15)\r\nRequirement already satisfied: zict>=3.0.0 in /opt/conda/lib/python3.10/site-packages (from distributed>=2.4.0->dask_ml) (3.0.0)\r\nRequirement already satisfied: llvmlite<0.41,>=0.40.0dev0 in /opt/conda/lib/python3.10/site-packages (from numba>=0.51.0->dask_ml) (0.40.1)\r\nRequirement already satisfied: pyparsing!=3.0.5,>=2.0.2 in /opt/conda/lib/python3.10/site-packages (from packaging->dask_ml) (3.0.9)\r\nRequirement already satisfied: python-dateutil>=2.8.2 in /opt/conda/lib/python3.10/site-packages (from pandas>=0.24.2->dask_ml) (2.8.2)\r\nRequirement already satisfied: pytz>=2020.1 in /opt/conda/lib/python3.10/site-packages (from pandas>=0.24.2->dask_ml) (2023.3)\r\nRequirement already satisfied: tzdata>=2022.1 in /opt/conda/lib/python3.10/site-packages (from pandas>=0.24.2->dask_ml) (2023.3)\r\nRequirement already satisfied: joblib>=1.1.1 in /opt/conda/lib/python3.10/site-packages (from scikit-learn>=1.2.0->dask_ml) (1.3.2)\r\nRequirement already satisfied: threadpoolctl>=2.0.0 in /opt/conda/lib/python3.10/site-packages (from scikit-learn>=1.2.0->dask_ml) (3.2.0)\r\nRequirement already satisfied: zipp>=0.5 in /opt/conda/lib/python3.10/site-packages (from importlib-metadata>=4.13.0->dask[array,dataframe]>=2.4.0->dask_ml) (3.16.2)\r\nRequirement already satisfied: MarkupSafe>=2.0 in /opt/conda/lib/python3.10/site-packages (from jinja2>=2.10.3->distributed>=2.4.0->dask_ml) (2.1.3)\r\nRequirement already satisfied: six>=1.5 in /opt/conda/lib/python3.10/site-packages (from python-dateutil>=2.8.2->pandas>=0.24.2->dask_ml) (1.16.0)\r\nDownloading dask_glm-0.3.2-py2.py3-none-any.whl (13 kB)\r\nInstalling collected packages: sparse, dask-glm, dask_ml\r\nSuccessfully installed dask-glm-0.3.2 dask_ml-2023.3.24 sparse-0.14.0\r\n"
        }
      ],
      "execution_count": 8,
      "block_group": "5b444233fb4841f0b668d6fa9a2ed033"
    },
    {
      "cell_type": "code",
      "source": "# apply SN-filter (with p_unpaired calculation)\nfrom dask_ml.model_selection import train_test_split\ndf_sn = ddf[ddf[\"SN_filter\"]==1]\n\n# split into 2A3 MaP and DMS MaP datasets\ndf_2A3 = df_sn[df_sn[\"experiment_type\"]==\"2A3_MaP\"]\ndf_DMS = df_sn[df_sn[\"experiment_type\"]==\"DMS_MaP\"]\n\n# split into train and test\nX_DMS_seq = df_DMS[\"sequence\"]\nX_DMS_p_unpaired = df_DMS.loc[:, \"p_unp_1\":\"p_unp_206\"]\ny_DMS = df_DMS.loc[:, df_DMS.columns.str.fullmatch(\"reactivity_\\d\\d\\d\\d\")]\nX_DMS_train_seq, X_DMS_test_seq, X_DMS_train_p_unpaired, X_DMS_test_p_unpaired, y_DMS_train, y_DMS_test = train_test_split(X_DMS_seq, X_DMS_p_unpaired, y_DMS, test_size=0.2, shuffle=True, blockwise=True, random_state=42)\nX_DMS_train_seq, X_DMS_validation_seq, X_DMS_train_p_unpaired, X_DMS_validation_p_unpaired, y_DMS_train, y_DMS_validation = train_test_split(X_DMS_train_seq, X_DMS_train_p_unpaired, y_DMS_train, test_size=0.25, shuffle=True, blockwise=True, random_state=42)",
      "metadata": {
        "tags": [],
        "execution": {
          "iopub.status.busy": "2023-12-17T04:26:32.946658Z",
          "iopub.status.idle": "2023-12-17T04:26:34.256023Z",
          "iopub.execute_input": "2023-12-17T04:26:32.946985Z",
          "shell.execute_reply": "2023-12-17T04:26:34.255184Z"
        },
        "papermill": {
          "status": "completed",
          "duration": 1.320756,
          "end_time": "2023-12-17T04:26:34.258465",
          "exception": false,
          "start_time": "2023-12-17T04:26:32.937709"
        },
        "cell_id": "625ede90e72b430fb6bbd9ef42edfd64",
        "deepnote_cell_type": "code"
      },
      "outputs": [],
      "execution_count": 9,
      "block_group": "22a9e651095745dab0e7ba48230da300"
    },
    {
      "cell_type": "code",
      "source": "def df_toArray_train(ddf1A, ddf1B, ddf2): # for sequence, p_unpaired, and reactivity\n    with ProgressBar():\n        subset_columns = []\n        for i in range(206):\n            subset_columns.append(\"reactivity_0\"+str(i+1).zfill(3))\n\n        # Compute the subset of the Dask DataFrame and convert it to a Pandas DataFrame\n        reactivities = ddf2.compute().to_numpy()\n        p_unpaired = ddf1B.compute().to_numpy()\n\n        row_means = np.nanmean(reactivities, axis=1)\n\n        # Iterate over each element and replace NaN with the row mean\n        for i, row in enumerate(reactivities):\n            mask = np.isnan(row)\n            reactivities[i, mask] = row_means[i]\n\n        seqs = ddf1A.compute().tolist()\n\n        return seqs, p_unpaired, reactivities",
      "metadata": {
        "tags": [],
        "execution": {
          "iopub.status.busy": "2023-12-17T04:26:34.274990Z",
          "iopub.status.idle": "2023-12-17T04:26:34.281939Z",
          "iopub.execute_input": "2023-12-17T04:26:34.275640Z",
          "shell.execute_reply": "2023-12-17T04:26:34.281064Z"
        },
        "papermill": {
          "status": "completed",
          "duration": 0.017363,
          "end_time": "2023-12-17T04:26:34.283819",
          "exception": false,
          "start_time": "2023-12-17T04:26:34.266456"
        },
        "cell_id": "b993aa14ca62442f820098d79e47b106",
        "deepnote_cell_type": "code"
      },
      "outputs": [],
      "execution_count": 10,
      "block_group": "5d6a6a650ed14a4a9ed6b2053c59e448"
    },
    {
      "cell_type": "code",
      "source": "def df_toArray_test(ddf1A, ddf1B, ddf2): # for sequence, p_unpaired, and reactivity\n    with ProgressBar():\n        subset_columns = []\n        for i in range(206):\n            subset_columns.append(\"reactivity_0\"+str(i+1).zfill(3))\n\n        # Compute the subset of the Dask DataFrame and convert it to a Pandas DataFrame\n        reactivities = ddf2.compute().to_numpy()\n        p_unpaired = ddf1B.compute().to_numpy()\n\n        row_means = np.nanmean(reactivities, axis=1)\n\n        seqs = ddf1A.compute().tolist()\n\n        return seqs, p_unpaired, reactivities",
      "metadata": {
        "tags": [],
        "execution": {
          "iopub.status.busy": "2023-12-17T04:26:34.299923Z",
          "iopub.status.idle": "2023-12-17T04:26:34.305620Z",
          "iopub.execute_input": "2023-12-17T04:26:34.300213Z",
          "shell.execute_reply": "2023-12-17T04:26:34.304848Z"
        },
        "papermill": {
          "status": "completed",
          "duration": 0.016103,
          "end_time": "2023-12-17T04:26:34.307573",
          "exception": false,
          "start_time": "2023-12-17T04:26:34.291470"
        },
        "cell_id": "8e4f19f64eaf40d980f85b9ec85b4078",
        "deepnote_cell_type": "code"
      },
      "outputs": [],
      "execution_count": 11,
      "block_group": "140db22e1fc04cf1b1e7e7239f63d3c7"
    },
    {
      "cell_type": "code",
      "source": "# Using DMS Data - with p_unpaired\nseqs, p_unpaired, reactivities = df_toArray_train(X_DMS_train_seq, X_DMS_train_p_unpaired, y_DMS_train)\ntrain_dataset = BedPeaksDataset(seqs, p_unpaired, reactivities)\ntrain_dataloader = torch.utils.data.DataLoader(train_dataset, batch_size=50, num_workers = 0)\n\nseqs, p_unpaired, reactivities = df_toArray_train(X_DMS_validation_seq, X_DMS_validation_p_unpaired, y_DMS_validation)\nvalidation_dataset = BedPeaksDataset(seqs, p_unpaired, reactivities)\nvalidation_dataloader = torch.utils.data.DataLoader(validation_dataset, batch_size=50, num_workers = 0)\n\nseqs, p_unpaired, reactivities = df_toArray_test(X_DMS_test_seq, X_DMS_test_p_unpaired, y_DMS_test)\ntest_dataset = BedPeaksDataset(seqs, p_unpaired, reactivities)\ntest_dataloader = torch.utils.data.DataLoader(test_dataset, batch_size=50, num_workers = 0)",
      "metadata": {
        "tags": [],
        "execution": {
          "iopub.status.busy": "2023-12-17T04:26:34.323411Z",
          "iopub.status.idle": "2023-12-17T04:40:41.254838Z",
          "iopub.execute_input": "2023-12-17T04:26:34.323696Z",
          "shell.execute_reply": "2023-12-17T04:40:41.254115Z"
        },
        "papermill": {
          "status": "completed",
          "duration": 846.941643,
          "end_time": "2023-12-17T04:40:41.256798",
          "exception": false,
          "start_time": "2023-12-17T04:26:34.315155"
        },
        "cell_id": "25585edb432946689a1082ff86e4aa9f",
        "deepnote_cell_type": "code"
      },
      "outputs": [
        {
          "name": "stdout",
          "output_type": "stream",
          "text": "[########################################] | 100% Completed | 96.92 s\n[########################################] | 100% Completed | 98.04 s\n[########################################] | 100% Completed | 95.22 s\n[########################################] | 100% Completed | 91.55 s\n[########################################] | 100% Completed | 91.70 s\n[########################################] | 100% Completed | 92.12 s\n[########################################] | 100% Completed | 89.26 s\n[########################################] | 100% Completed | 95.24 s\n[########################################] | 100% Completed | 94.91 s\n"
        }
      ],
      "execution_count": 12,
      "block_group": "4767cf30a1d14ecd9d0d5f6a643dfa82"
    },
    {
      "cell_type": "code",
      "source": "import torch\nimport torch.nn as nn\nimport torch.optim as optim\nimport torch.utils.data as data\nimport math\nimport copy",
      "metadata": {
        "tags": [],
        "execution": {
          "iopub.status.busy": "2023-12-17T04:40:42.593193Z",
          "iopub.status.idle": "2023-12-17T04:40:42.597962Z",
          "iopub.execute_input": "2023-12-17T04:40:42.593554Z",
          "shell.execute_reply": "2023-12-17T04:40:42.597050Z"
        },
        "papermill": {
          "status": "completed",
          "duration": 0.65194,
          "end_time": "2023-12-17T04:40:42.599876",
          "exception": false,
          "start_time": "2023-12-17T04:40:41.947936"
        },
        "cell_id": "3c071ed8333e4de08e94992f506fcf30",
        "deepnote_cell_type": "code"
      },
      "outputs": [],
      "execution_count": 13,
      "block_group": "ec65afa03eaa4761a98cfbd5b65a19bd"
    },
    {
      "cell_type": "code",
      "source": "import torch\nimport torch.nn as nn\nimport torch.nn.functional as F\nimport math\n\nclass TransformerModel(nn.Module):\n    def __init__(self, input_dim=5, d_model=512, nhead=8, num_encoder_layers=6, num_decoder_layers=6, dim_feedforward=2048, n_output_channels=10, dropout=0.2):\n        super(TransformerModel, self).__init__()\n        self.input_dim = input_dim\n        # Embedding layers that will transform input to match d_model size\n        self.embedding = nn.Linear(input_dim, d_model)\n        self.target_embedding = nn.Linear(1, d_model)\n\n        # Positional Encoding\n        self.pos_encoder = PositionalEncoding(d_model, dropout)\n        self.pos_decoder = PositionalEncoding(d_model, dropout)\n\n        # Transformer Encoder\n        encoder_layers = nn.TransformerEncoderLayer(d_model=d_model, nhead=nhead, dim_feedforward=dim_feedforward, dropout=dropout)\n        self.transformer_encoder = nn.TransformerEncoder(encoder_layers, num_layers=num_encoder_layers)\n\n        # Transformer Decoder\n        decoder_layers = nn.TransformerDecoderLayer(d_model=d_model, nhead=nhead, dim_feedforward=dim_feedforward, dropout=dropout)\n        self.transformer_decoder = nn.TransformerDecoder(decoder_layers, num_layers=num_decoder_layers)\n\n        # Decoder layer to bring the output to the desired n_output_channels\n        self.decoder = nn.Linear(d_model, n_output_channels)\n\n    def forward(self, src, tgt):\n        # Reshape input to [seq_len, batch_size, input_dim]\n        src = src.view(-1, src.size(0), 5)  # Reshaped to [src_seq_len, batch_size, input_dim]\n        tgt = tgt.view(-1, tgt.size(0), 1)  # Reshaped to [tgt_seq_len, batch_size, input_dim]\n        \n        # Pass through the embedding layers\n        src = self.embedding(src)\n        tgt = self.target_embedding(tgt)\n\n        # Add positional encoding\n        src = self.pos_encoder(src)\n        tgt = self.pos_decoder(tgt)\n\n        # Pass through the Transformer Encoder\n        memory = self.transformer_encoder(src)\n\n        # Pass through the Transformer Decoder\n        output = self.transformer_decoder(tgt, memory)\n\n        output = torch.mean(output, dim=0)  # Now the shape should be [batch_size, d_model]\n    \n        # Now reshape it to match the linear layer's input expectation\n        output = output.view(output.size(0), -1)  # Shape should be [batch_size, d_model]\n\n        # Pass through the decoder\n        output = self.decoder(output)  # This should work as expected now\n        return output\n\nclass PositionalEncoding(nn.Module):\n    def __init__(self, d_model, dropout=0.1, max_len=5000):\n        super(PositionalEncoding, self).__init__()\n        self.dropout = nn.Dropout(p=dropout)\n\n        pe = torch.zeros(max_len, d_model)\n        position = torch.arange(0, max_len, dtype=torch.float).unsqueeze(1)\n        div_term = torch.exp(torch.arange(0, d_model, 2).float() * (-math.log(10000.0) / d_model))\n        pe[:, 0::2] = torch.sin(position * div_term)\n        pe[:, 1::2] = torch.cos(position * div_term)\n        pe = pe.unsqueeze(0).transpose(0, 1)\n        self.register_buffer('pe', pe)\n\n    def forward(self, x):\n        x = x + self.pe[:x.size(0), :]\n        return self.dropout(x)\n",
      "metadata": {
        "tags": [],
        "execution": {
          "iopub.status.busy": "2023-12-17T04:40:43.908906Z",
          "iopub.status.idle": "2023-12-17T04:40:43.927242Z",
          "iopub.execute_input": "2023-12-17T04:40:43.909291Z",
          "shell.execute_reply": "2023-12-17T04:40:43.926252Z"
        },
        "papermill": {
          "status": "completed",
          "duration": 0.699025,
          "end_time": "2023-12-17T04:40:43.929113",
          "exception": false,
          "start_time": "2023-12-17T04:40:43.230088"
        },
        "cell_id": "74e29fd174144a50870019e4430c0733",
        "deepnote_cell_type": "code"
      },
      "outputs": [],
      "execution_count": 14,
      "block_group": "43b69a4718614bed9067e45d0115e0ba"
    },
    {
      "cell_type": "code",
      "source": "# https://pytorch.org/docs/stable/generated/torch.nn.Transformer.html\nimport timeit\ntransformer = TransformerModel(input_dim=5, d_model=256, nhead=4, num_encoder_layers=3, num_decoder_layers=3, dim_feedforward=1024, n_output_channels=206)\n\n# train model\ntransformer, train_losses, valid_losses = train_model(transformer, train_dataloader, validation_dataloader, lr = 0.001, weight_decay = 0)\ntorch.save(transformer.state_dict(), 'model.pth')\n\n# # load model\n# transformer.load_state_dict(torch.load(\"/kaggle/input/transformer-model-2a3/transformer_model.pth\"))\n# device = torch.device(\"cuda\" if torch.cuda.is_available() else \"cpu\")\n# transformer.to(device)",
      "metadata": {
        "tags": [],
        "execution": {
          "iopub.status.busy": "2023-12-17T04:40:45.187789Z",
          "iopub.status.idle": "2023-12-17T05:53:15.083538Z",
          "iopub.execute_input": "2023-12-17T04:40:45.188184Z",
          "shell.execute_reply": "2023-12-17T05:53:15.082699Z"
        },
        "papermill": {
          "status": "completed",
          "duration": 4350.527723,
          "end_time": "2023-12-17T05:53:15.086096",
          "exception": false,
          "start_time": "2023-12-17T04:40:44.558373"
        },
        "cell_id": "f09a0ce03fdb43da8f9c5924eba91fdb",
        "deepnote_cell_type": "code"
      },
      "outputs": [
        {
          "name": "stdout",
          "output_type": "stream",
          "text": "Epoch 1 took 364.01s. Train loss: 0.1988., Valid loss: 0.2013. Patience: 10\nEpoch 2 took 362.22s. Train loss: 0.1972., Valid loss: 0.2011. Patience: 10\nEpoch 3 took 361.91s. Train loss: 0.1970., Valid loss: 0.2014. Patience: 9\nEpoch 4 took 361.99s. Train loss: 0.1969., Valid loss: 0.2015. Patience: 8\nEpoch 5 took 362.74s. Train loss: 0.1969., Valid loss: 0.2016. Patience: 7\nEpoch 6 took 362.15s. Train loss: 0.1969., Valid loss: 0.2017. Patience: 6\nEpoch 7 took 361.90s. Train loss: 0.1969., Valid loss: 0.2016. Patience: 5\nEpoch 8 took 361.86s. Train loss: 0.1969., Valid loss: 0.2016. Patience: 4\nEpoch 9 took 361.91s. Train loss: 0.1969., Valid loss: 0.2016. Patience: 3\nEpoch 10 took 362.31s. Train loss: 0.1968., Valid loss: 0.2015. Patience: 2\nEpoch 11 took 361.88s. Train loss: 0.1968., Valid loss: 0.2015. Patience: 1\n"
        }
      ],
      "execution_count": 15,
      "block_group": "761b34d3328b4261b2af7a7e56b45f37"
    },
    {
      "cell_type": "code",
      "source": "device = 'cuda'\noutputs = []\nexpected_padded = []\nexpected_nonpadded = []\ntransformer.eval()\n\nfor (x, y) in test_dataloader:  # iterate over batches\n    \n    # add y to expected_nonpadded\n    expected_nonpadded.append(y.float().numpy())\n    \n    # add padding to y\n    y_pad = y.clone()\n\n    # add padding to y\n    row_means = np.nanmean(y_pad, axis=1)\n    for i, row in enumerate(y_pad):\n        mask = np.isnan(row)\n        y_pad[i, mask] = row_means[i]\n        \n    # add y_pad to expected_padded\n    expected_padded.append(y_pad.float().numpy())\n    \n    if torch.cuda.is_available():\n        y_pad = y_pad.to(device).float()\n        x = x.to(device).float()\n\n    output = transformer(x.float(), y_pad.float()).squeeze()  # your awesome model here!\n\n    output_np = output.detach().cpu().numpy()\n    outputs.append(output_np)\n\n# Concatenate all the outputs and expected results\noutput_np = np.concatenate(outputs)\nexpected_pad_np = np.concatenate(expected_padded)\nexpected_nonpad_np = np.concatenate(expected_nonpadded)\n\nprint(output_np)\nprint(expected_pad_np)\nprint(expected_nonpad_np)\nprint(output_np.shape)\nprint(expected_pad_np.shape)\nprint(expected_nonpad_np.shape)\n\n# Clip the values to be between 0 and 1\noutput_np = output_np.clip(0, 1)\nexpected_pad_np = expected_pad_np.clip(0, 1)\nexpected_nonpad_np = expected_nonpad_np.clip(0, 1)\n\n# Calculate the Mean Absolute Error\nmae1_pad = np.nanmean(np.abs(output_np - expected_pad_np))\nmae1_nonpad = np.nanmean(np.abs(output_np - expected_nonpad_np))\nprint(mae1_pad)\nprint(mae1_nonpad)",
      "metadata": {
        "tags": [],
        "execution": {
          "iopub.status.busy": "2023-12-17T05:53:16.396475Z",
          "iopub.status.idle": "2023-12-17T05:53:54.830543Z",
          "iopub.execute_input": "2023-12-17T05:53:16.396819Z",
          "shell.execute_reply": "2023-12-17T05:53:54.829379Z"
        },
        "papermill": {
          "status": "completed",
          "duration": 39.750232,
          "end_time": "2023-12-17T05:53:55.462889",
          "exception": false,
          "start_time": "2023-12-17T05:53:15.712657"
        },
        "cell_id": "3a95d0efb8ac47c698141f050be0e6a6",
        "deepnote_cell_type": "code"
      },
      "outputs": [
        {
          "name": "stderr",
          "output_type": "stream",
          "text": "/tmp/ipykernel_26/1129831263.py:19: UserWarning: masked_fill_ received a mask with dtype torch.uint8, this behavior is now deprecated,please use a mask with dtype torch.bool instead. (Triggered internally at /usr/local/src/pytorch/aten/src/ATen/native/TensorAdvancedIndexing.cpp:1772.)\n  y_pad[i, mask] = row_means[i]\n"
        },
        {
          "name": "stdout",
          "output_type": "stream",
          "text": "[[0.41095895 0.40325427 0.3952958  ... 0.39995262 0.39285985 0.41212317]\n [0.41096175 0.40322754 0.3952614  ... 0.39996916 0.39286426 0.41216615]\n [0.41096276 0.40322852 0.39527    ... 0.3999665  0.3928597  0.4121601 ]\n ...\n [0.4109604  0.4032563  0.39529568 ... 0.39995262 0.3928608  0.412123  ]\n [0.41096017 0.4032557  0.39529577 ... 0.39995283 0.39286062 0.4121237 ]\n [0.41096035 0.40325642 0.39529595 ... 0.3999525  0.39286074 0.41212192]]\n[[0.31131 0.31131 0.31131 ... 0.31131 0.31131 0.31131]\n [0.28325 0.28325 0.28325 ... 0.28325 0.28325 0.28325]\n [0.54464 0.54464 0.54464 ... 0.54464 0.54464 0.54464]\n ...\n [0.33179 0.33179 0.33179 ... 0.33179 0.33179 0.33179]\n [0.3654  0.3654  0.3654  ... 0.3654  0.3654  0.3654 ]\n [0.35601 0.35601 0.35601 ... 0.35601 0.35601 0.35601]]\n[[nan nan nan ... nan nan nan]\n [nan nan nan ... nan nan nan]\n [nan nan nan ... nan nan nan]\n ...\n [nan nan nan ... nan nan nan]\n [nan nan nan ... nan nan nan]\n [nan nan nan ... nan nan nan]]\n(47327, 206)\n(47327, 206)\n(47327, 206)\n0.1950993\n0.32808387\n"
        }
      ],
      "execution_count": 16,
      "block_group": "d7bb2b9bf5a54977a296523a0a6ba06f"
    },
    {
      "cell_type": "markdown",
      "source": "<a style='text-decoration:none;line-height:16px;display:flex;color:#5B5B62;padding:10px;justify-content:end;' href='https://deepnote.com?utm_source=created-in-deepnote-cell&projectId=fe343e39-d2c0-4296-915d-091d9a42752d' target=\"_blank\">\n<img alt='Created in deepnote.com' style='display:inline;max-height:16px;margin:0px;margin-right:7.5px;' src='data:image/svg+xml;base64,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' > </img>\nCreated in <span style='font-weight:600;margin-left:4px;'>Deepnote</span></a>",
      "metadata": {
        "created_in_deepnote_cell": true,
        "deepnote_cell_type": "markdown"
      }
    }
  ],
  "nbformat": 4,
  "nbformat_minor": 0,
  "metadata": {
    "kaggle": {
      "language": "python",
      "sourceType": "notebook",
      "accelerator": "gpu",
      "dataSources": [
        {
          "sourceId": 51294,
          "sourceType": "competition",
          "databundleVersionId": 6923401
        },
        {
          "sourceId": 7107692,
          "datasetId": 4097862,
          "sourceType": "datasetVersion"
        }
      ],
      "isGpuEnabled": true,
      "isInternetEnabled": true
    },
    "deepnote": {},
    "papermill": {
      "version": "2.4.0",
      "duration": 5274.777914,
      "end_time": "2023-12-17T05:53:59.223189",
      "exception": null,
      "input_path": "__notebook__.ipynb",
      "parameters": {},
      "start_time": "2023-12-17T04:26:04.445275",
      "output_path": "__notebook__.ipynb",
      "default_parameters": {},
      "environment_variables": {}
    },
    "kernelspec": {
      "name": "python3",
      "language": "python",
      "display_name": "Python 3"
    },
    "language_info": {
      "name": "python",
      "version": "3.10.12",
      "mimetype": "text/x-python",
      "file_extension": ".py",
      "pygments_lexer": "ipython3",
      "codemirror_mode": {
        "name": "ipython",
        "version": 3
      },
      "nbconvert_exporter": "python"
    },
    "deepnote_notebook_id": "01fe25a1ee43449f8584a0bb1da8597b",
    "deepnote_execution_queue": []
  }
}