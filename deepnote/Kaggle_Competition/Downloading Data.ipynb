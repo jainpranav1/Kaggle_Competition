{
  "cells": [
    {
      "cell_type": "markdown",
      "source": "# Downloading Data",
      "metadata": {
        "formattedRanges": [],
        "cell_id": "80387dc299c145e0af95d6b473837280",
        "deepnote_cell_type": "text-cell-h1"
      },
      "block_group": "a02a86ada53941d08e2a89bb4f509c83"
    },
    {
      "cell_type": "code",
      "source": "# download train_data.csv\n!kaggle competitions download -c stanford-ribonanza-rna-folding -f train_data.csv",
      "metadata": {
        "source_hash": null,
        "execution_start": 1700509722884,
        "execution_millis": 13421,
        "deepnote_to_be_reexecuted": false,
        "cell_id": "6b215b5935a640a4ae658eb7b5991e6f",
        "deepnote_cell_type": "code"
      },
      "outputs": [
        {
          "name": "stdout",
          "text": "Downloading train_data.csv.zip to /datasets/_deepnote_work\n... resuming from 145752064 bytes (309036698 bytes left) ...\n 99%|████████████████████████████████████████▋| 430M/434M [00:03<00:00, 130MB/s]\n100%|████████████████████████████████████████| 434M/434M [00:12<00:00, 25.4MB/s]\n",
          "output_type": "stream"
        }
      ],
      "execution_count": null,
      "block_group": "03f3e09862594626ac839c5b0d19f677"
    },
    {
      "cell_type": "code",
      "source": "# download test_sequences.csv\n!kaggle competitions download -c stanford-ribonanza-rna-folding -f test_sequences.csv",
      "metadata": {
        "source_hash": null,
        "execution_start": 1700509736303,
        "execution_millis": 1013,
        "deepnote_to_be_reexecuted": false,
        "cell_id": "fab676d7595445068dc76725eceeef23",
        "deepnote_cell_type": "code"
      },
      "outputs": [
        {
          "name": "stdout",
          "text": "test_sequences.csv.zip: Skipping, found more recently modified local copy (use --force to force download)\n",
          "output_type": "stream"
        }
      ],
      "execution_count": null,
      "block_group": "807e269b879e4a378aa09115cb43e5f9"
    },
    {
      "cell_type": "code",
      "source": "# download p_unpaired.txt\n!kaggle datasets download -d thepranavjain1/punpaired-dataset -f p_unpaired.txt",
      "metadata": {
        "source_hash": null,
        "execution_start": 1700510646350,
        "execution_millis": 30297,
        "deepnote_to_be_reexecuted": false,
        "cell_id": "952bda2469e149c68bfbcdbc6399e184",
        "deepnote_cell_type": "code"
      },
      "outputs": [
        {
          "name": "stdout",
          "text": "Downloading p_unpaired.txt.zip to /datasets/_deepnote_work\n 99%|██████████████████████████████████████▊| 1.29G/1.30G [00:12<00:00, 109MB/s]\n100%|██████████████████████████████████████| 1.30G/1.30G [00:29<00:00, 47.9MB/s]\n",
          "output_type": "stream"
        }
      ],
      "execution_count": null,
      "block_group": "06f6e367f8264876a4560dab1ef1e828"
    },
    {
      "cell_type": "code",
      "source": "# download train_data_p_unp.csv\n!kaggle datasets download -d thepranavjain1/test-and-train-punpaired-dataset -f train_data_p_unp.csv",
      "metadata": {
        "source_hash": null,
        "execution_start": 1701554169331,
        "execution_millis": 1405,
        "deepnote_to_be_reexecuted": false,
        "cell_id": "a2007e53f8c14cbab9c2fbf2a874b326",
        "deepnote_cell_type": "code"
      },
      "outputs": [
        {
          "name": "stdout",
          "text": "train_data_p_unp.csv.zip: Skipping, found more recently modified local copy (use --force to force download)\n",
          "output_type": "stream"
        }
      ],
      "execution_count": null,
      "block_group": "f7e722648df648428f336cf26100bb92"
    },
    {
      "cell_type": "code",
      "source": "# download test_seq_p_unp.csv\n!kaggle datasets download -d thepranavjain1/test-and-train-punpaired-dataset -f test_seq_p_unp.csv",
      "metadata": {
        "source_hash": null,
        "execution_start": 1701554175250,
        "execution_millis": 25958,
        "deepnote_to_be_reexecuted": false,
        "cell_id": "9761b6298ab043acacfb67cd0e44b395",
        "deepnote_cell_type": "code"
      },
      "outputs": [
        {
          "name": "stdout",
          "text": "Downloading test_seq_p_unp.csv.zip to /datasets/_deepnote_work\n 99%|████████████████████████████████████████▌| 911M/920M [00:08<00:00, 134MB/s]\n100%|████████████████████████████████████████| 920M/920M [00:24<00:00, 39.4MB/s]\n",
          "output_type": "stream"
        }
      ],
      "execution_count": null,
      "block_group": "dc8c80a0534a45b38c086f5b62084f47"
    },
    {
      "cell_type": "markdown",
      "source": "<a style='text-decoration:none;line-height:16px;display:flex;color:#5B5B62;padding:10px;justify-content:end;' href='https://deepnote.com?utm_source=created-in-deepnote-cell&projectId=fe343e39-d2c0-4296-915d-091d9a42752d' target=\"_blank\">\n<img alt='Created in deepnote.com' style='display:inline;max-height:16px;margin:0px;margin-right:7.5px;' src='data:image/svg+xml;base64,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' > </img>\nCreated in <span style='font-weight:600;margin-left:4px;'>Deepnote</span></a>",
      "metadata": {
        "created_in_deepnote_cell": true,
        "deepnote_cell_type": "markdown"
      }
    }
  ],
  "nbformat": 4,
  "nbformat_minor": 0,
  "metadata": {
    "deepnote": {},
    "orig_nbformat": 2,
    "deepnote_notebook_id": "30a0969e966e429394d164b46e74ae14",
    "deepnote_execution_queue": []
  }
}