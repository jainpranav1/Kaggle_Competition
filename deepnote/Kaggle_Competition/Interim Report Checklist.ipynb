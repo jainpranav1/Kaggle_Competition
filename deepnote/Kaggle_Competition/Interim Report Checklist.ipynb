{
  "cells": [
    {
      "cell_type": "markdown",
      "source": "",
      "metadata": {
        "formattedRanges": [],
        "cell_id": "2a1e030f56d246c395c7557a23899ca9",
        "deepnote_cell_type": "text-cell-p"
      },
      "block_group": "76232c82eef8442da50ccd5d33a38220"
    },
    {
      "cell_type": "markdown",
      "source": "# Interim Report Checklist",
      "metadata": {
        "formattedRanges": [],
        "cell_id": "78bb85e33824471fb2031306b51e8ca4",
        "deepnote_cell_type": "text-cell-h1"
      },
      "block_group": "788b9092260c4d62b7f0d72de3b0a881"
    },
    {
      "cell_type": "markdown",
      "source": "From here",
      "metadata": {
        "formattedRanges": [
          {
            "url": "https://docs.google.com/document/d/1-NcmKTBS7_JV664TCJkfrzD54IPguUiJThhBge_CtHA/edit?usp=sharing",
            "type": "link",
            "ranges": [],
            "toCodePoint": 9,
            "fromCodePoint": 5
          }
        ],
        "cell_id": "aebd0bee00b44e7cb675e26e27f24776",
        "deepnote_cell_type": "text-cell-p"
      },
      "block_group": "8daa85ff6eff43039fda68eccec83179"
    },
    {
      "cell_type": "markdown",
      "source": "### Title",
      "metadata": {
        "formattedRanges": [],
        "cell_id": "d7b9543aea8e48a682f5f103f4a010de",
        "deepnote_cell_type": "text-cell-h3"
      },
      "block_group": "ec541803073a43e292ce4043f439670e"
    },
    {
      "cell_type": "markdown",
      "source": "- [ ] Chose a title",
      "metadata": {
        "checked": false,
        "formattedRanges": [],
        "cell_id": "35020d92210e48b49bf425bbbb263ebe",
        "deepnote_cell_type": "text-cell-todo"
      },
      "block_group": "449965e43ff840cf9e1b57a8c6c2263e"
    },
    {
      "cell_type": "markdown",
      "source": "- [x] Decided our team members",
      "metadata": {
        "checked": true,
        "formattedRanges": [],
        "cell_id": "a8e3a18f5ed240f1b32eb52562216afc",
        "deepnote_cell_type": "text-cell-todo"
      },
      "block_group": "a93bea04dc194ba48e200784a5179592"
    },
    {
      "cell_type": "markdown",
      "source": "### Introduction",
      "metadata": {
        "formattedRanges": [],
        "cell_id": "3bfa7b1e3bb146b9962836dc7af45622",
        "deepnote_cell_type": "text-cell-h3"
      },
      "block_group": "e23c9545176f4058ad3c79628c8bede0"
    },
    {
      "cell_type": "markdown",
      "source": "- [ ] Chose the biological question we are addressing",
      "metadata": {
        "checked": false,
        "formattedRanges": [],
        "cell_id": "511b3fcf521844bfa692ecc29847d628",
        "deepnote_cell_type": "text-cell-todo"
      },
      "block_group": "263e50916a1642878162e50beac2c98c"
    },
    {
      "cell_type": "markdown",
      "source": "- [x] Chose the data we will use",
      "metadata": {
        "checked": true,
        "formattedRanges": [],
        "cell_id": "9b1aa1217ae64281b9d29935a2a80b60",
        "deepnote_cell_type": "text-cell-todo"
      },
      "block_group": "21ed144bc1f24232a1d7931bcd0c0b1d"
    },
    {
      "cell_type": "markdown",
      "source": "- [ ] Chose the ML model(s) we will use",
      "metadata": {
        "checked": false,
        "formattedRanges": [],
        "cell_id": "a58f44e569d146df8f995112bf2d9508",
        "deepnote_cell_type": "text-cell-todo"
      },
      "block_group": "437df4ffb6bb4f50bb6c9450c2eed99f"
    },
    {
      "cell_type": "markdown",
      "source": "### Data",
      "metadata": {
        "formattedRanges": [],
        "cell_id": "7468b71acd4144b493df56beb8f227e9",
        "deepnote_cell_type": "text-cell-h3"
      },
      "block_group": "df826d7b63c243bc8e736620196e8a65"
    },
    {
      "cell_type": "markdown",
      "source": "- [x] Downloaded necessary data",
      "metadata": {
        "checked": true,
        "formattedRanges": [],
        "cell_id": "803a80cbbbe642828856da97650db826",
        "deepnote_cell_type": "text-cell-todo"
      },
      "block_group": "f2197077003b4dd99083fcef56c74af9"
    },
    {
      "cell_type": "markdown",
      "source": "- [x] Preprocessed the data",
      "metadata": {
        "checked": true,
        "formattedRanges": [],
        "cell_id": "17e74872406c4939b197ffd8e4f95ad2",
        "deepnote_cell_type": "text-cell-todo"
      },
      "block_group": "52781a3ddba94ced943057d5c472d854"
    },
    {
      "cell_type": "markdown",
      "source": "Understood the data by examining it by eye",
      "metadata": {
        "checked": false,
        "formattedRanges": [
          {
            "type": "marks",
            "marks": {
              "bold": true
            },
            "toCodePoint": 42,
            "fromCodePoint": 0
          }
        ],
        "cell_id": "caef9ab2392d47ffb6fc5c54d35937a9",
        "deepnote_cell_type": "text-cell-p"
      },
      "block_group": "534165fa992f426895d63045c4be1dc9"
    },
    {
      "cell_type": "markdown",
      "source": "- [ ] How many samples / features / cells are there?",
      "metadata": {
        "checked": false,
        "formattedRanges": [],
        "cell_id": "c8ca6dfb8fe8483eb2444479c11c40a1",
        "deepnote_cell_type": "text-cell-todo"
      },
      "block_group": "596a9a99122544e694951e80e17ead34"
    },
    {
      "cell_type": "markdown",
      "source": "- [ ] What is the distribution of the features / labels?",
      "metadata": {
        "checked": false,
        "formattedRanges": [],
        "cell_id": "cdaef28ce87a4df8969910fa89b731b6",
        "deepnote_cell_type": "text-cell-todo"
      },
      "block_group": "c4f9242777114969b1e3955c691f4023"
    },
    {
      "cell_type": "markdown",
      "source": "- [ ] Clustered the samples (PCA)",
      "metadata": {
        "checked": false,
        "formattedRanges": [],
        "cell_id": "a674c86b744944c195270f5950a10c5b",
        "deepnote_cell_type": "text-cell-todo"
      },
      "block_group": "4b39d59e9f744018afd1b87ab5c708b9"
    },
    {
      "cell_type": "markdown",
      "source": "### Methods",
      "metadata": {
        "formattedRanges": [],
        "cell_id": "82e4447415cf405cb1097862a753b524",
        "deepnote_cell_type": "text-cell-h3"
      },
      "block_group": "9d7429f291474b16bdac6fe7105d49b1"
    },
    {
      "cell_type": "markdown",
      "source": "What have you tried so far",
      "metadata": {
        "checked": false,
        "formattedRanges": [
          {
            "type": "marks",
            "marks": {
              "bold": true
            },
            "toCodePoint": 26,
            "fromCodePoint": 0
          }
        ],
        "cell_id": "f6dd9a695e6b4dfa816a59a96bb866f3",
        "deepnote_cell_type": "text-cell-p"
      },
      "block_group": "409743f724a94279a66a0646b5f0c1df"
    },
    {
      "cell_type": "markdown",
      "source": "- [x] Ran several baseline models",
      "metadata": {
        "checked": true,
        "formattedRanges": [],
        "cell_id": "f2c605215f444b3c8c311945de930a03",
        "deepnote_cell_type": "text-cell-todo"
      },
      "block_group": "54ec78d5191b43f08e5389bdac941386"
    },
    {
      "cell_type": "markdown",
      "source": "- [ ] Start implementing your method",
      "metadata": {
        "checked": false,
        "formattedRanges": [],
        "cell_id": "45674ee54b974157a693af9c771cc12d",
        "deepnote_cell_type": "text-cell-todo"
      },
      "block_group": "eb06727a2b6f4cec80d75ee74e4f3b11"
    },
    {
      "cell_type": "markdown",
      "source": "### Preliminary Results",
      "metadata": {
        "formattedRanges": [],
        "cell_id": "18151a44a5d94e1cb01e7f54ea463289",
        "deepnote_cell_type": "text-cell-h3"
      },
      "block_group": "ad2f998a02a34bd99a473ffa6301824c"
    },
    {
      "cell_type": "markdown",
      "source": "What have you found so far",
      "metadata": {
        "checked": false,
        "formattedRanges": [
          {
            "type": "marks",
            "marks": {
              "bold": true
            },
            "toCodePoint": 26,
            "fromCodePoint": 0
          }
        ],
        "cell_id": "7d225c5da3054d56a6bff3fc512ceae3",
        "deepnote_cell_type": "text-cell-p"
      },
      "block_group": "c5f55c376b424c8ca1db180f666003fb"
    },
    {
      "cell_type": "markdown",
      "source": "- [ ] Found any issues with the data",
      "metadata": {
        "checked": false,
        "formattedRanges": [],
        "cell_id": "ac96076d7dba4dff97f63acd6ae821bb",
        "deepnote_cell_type": "text-cell-todo"
      },
      "block_group": "805a8210ea934f5bad828dcb1efc5bcc"
    },
    {
      "cell_type": "markdown",
      "source": "- [x] Found performance of baseline models",
      "metadata": {
        "checked": true,
        "formattedRanges": [],
        "cell_id": "e148882f90a24ff98877e614d275f283",
        "deepnote_cell_type": "text-cell-todo"
      },
      "block_group": "d9362f74fe4449ebbbc71dd36a6f8db3"
    },
    {
      "cell_type": "markdown",
      "source": "### Next Steps",
      "metadata": {
        "formattedRanges": [],
        "cell_id": "c87eb6e72cbd429d9cae0f894eb2d246",
        "deepnote_cell_type": "text-cell-h3"
      },
      "block_group": "c448ef7e10b64df4b0b3ceb6cdcb94ba"
    },
    {
      "cell_type": "markdown",
      "source": "- [ ] What challenges were experienced?",
      "metadata": {
        "checked": false,
        "formattedRanges": [],
        "cell_id": "d972333055e54de4ad669c97c04d3ec6",
        "deepnote_cell_type": "text-cell-todo"
      },
      "block_group": "93c07076e9914aa1b16fe7561b574d09"
    },
    {
      "cell_type": "markdown",
      "source": "- [ ] How can the challenges be addressed?",
      "metadata": {
        "checked": false,
        "formattedRanges": [],
        "cell_id": "42319cba59f54c0799ca9ec0bb0151b5",
        "deepnote_cell_type": "text-cell-todo"
      },
      "block_group": "4336bbc7d4c4408c95831e0977665827"
    },
    {
      "cell_type": "markdown",
      "source": "- [ ] What will be achieved for the final report?",
      "metadata": {
        "checked": false,
        "formattedRanges": [],
        "cell_id": "4dc4e8f506f24c25a016fc526503447e",
        "deepnote_cell_type": "text-cell-todo"
      },
      "block_group": "7aa81158efc444a79c07fb9934257d5a"
    },
    {
      "cell_type": "markdown",
      "source": "<a style='text-decoration:none;line-height:16px;display:flex;color:#5B5B62;padding:10px;justify-content:end;' href='https://deepnote.com?utm_source=created-in-deepnote-cell&projectId=fe343e39-d2c0-4296-915d-091d9a42752d' target=\"_blank\">\n<img alt='Created in deepnote.com' style='display:inline;max-height:16px;margin:0px;margin-right:7.5px;' src='data:image/svg+xml;base64,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' > </img>\nCreated in <span style='font-weight:600;margin-left:4px;'>Deepnote</span></a>",
      "metadata": {
        "created_in_deepnote_cell": true,
        "deepnote_cell_type": "markdown"
      }
    }
  ],
  "nbformat": 4,
  "nbformat_minor": 0,
  "metadata": {
    "deepnote": {},
    "orig_nbformat": 2,
    "deepnote_notebook_id": "fd6ceccdeb8b4737bbc098fe6bbb7589",
    "deepnote_execution_queue": []
  }
}