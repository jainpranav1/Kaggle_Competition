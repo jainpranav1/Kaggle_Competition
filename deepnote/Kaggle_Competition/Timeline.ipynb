{
  "cells": [
    {
      "cell_type": "markdown",
      "source": "# Timeline",
      "metadata": {
        "formattedRanges": [],
        "cell_id": "8f58db87adc0487bb6fd67f4cc206675",
        "deepnote_cell_type": "text-cell-h1"
      },
      "block_group": "5ba1d06310de4a37b8e9d88a270828a6"
    },
    {
      "cell_type": "markdown",
      "source": "- November 22 - Fully develop CNN baseline (Max Kearns)",
      "metadata": {
        "formattedRanges": [],
        "cell_id": "729a3be51ea54d21a905c9e31f7215e2",
        "deepnote_cell_type": "text-cell-bullet"
      },
      "block_group": "a3c3e66e542a41d9a861296927b62f92"
    },
    {
      "cell_type": "markdown",
      "source": "- November 22 - Fully develop LSTM baseline (Xiaoyi He)",
      "metadata": {
        "formattedRanges": [],
        "cell_id": "f6e8f7088fc84faa971a12b5b0326ec0",
        "deepnote_cell_type": "text-cell-bullet"
      },
      "block_group": "4a7bf99d56dc4c45928a367119136781"
    },
    {
      "cell_type": "markdown",
      "source": "- November 22 - Secondary Structure Predictor baseline, Start transformer baseline (Pranav)",
      "metadata": {
        "formattedRanges": [],
        "cell_id": "d443a5faeff34bb0953d7032cb59d7b4",
        "deepnote_cell_type": "text-cell-bullet"
      },
      "block_group": "69b0b469352b4956b79bfdc1b1d766c8"
    },
    {
      "cell_type": "markdown",
      "source": "- December 2 - Transformer (Work together)",
      "metadata": {
        "formattedRanges": [],
        "cell_id": "fcec8b61fb6d4837ac81c1b7499ca3c5",
        "deepnote_cell_type": "text-cell-bullet"
      },
      "block_group": "c52b0b2b3aab46eea08b6ee4bd40209d"
    },
    {
      "cell_type": "markdown",
      "source": "- December 4 - Submit Final Report for Feedback",
      "metadata": {
        "formattedRanges": [],
        "cell_id": "87fdb531aed948cfa9733077237b7e2d",
        "deepnote_cell_type": "text-cell-bullet"
      },
      "block_group": "5f829c0e5d604ba99414d0c455b21b84"
    },
    {
      "cell_type": "markdown",
      "source": "- December 5 - Aggregated Model (Work together)",
      "metadata": {
        "formattedRanges": [],
        "cell_id": "1bfe7e513c7b453fa3b84307f2937a1d",
        "deepnote_cell_type": "text-cell-bullet"
      },
      "block_group": "5ecbb6d6cb164efb99aef1350b7bbcbf"
    },
    {
      "cell_type": "markdown",
      "source": "- December 7 - Kaggle Competition Final Submission Deadline",
      "metadata": {
        "formattedRanges": [],
        "cell_id": "b389efdc9a49484e81cf4f032ca9eed0",
        "deepnote_cell_type": "text-cell-bullet"
      },
      "block_group": "c23507d947a849dca5067757fd483e8c"
    },
    {
      "cell_type": "markdown",
      "source": "- December 17 - Final Report Due",
      "metadata": {
        "formattedRanges": [],
        "cell_id": "565547f3d24f416a949a92fcf0e6a2a3",
        "deepnote_cell_type": "text-cell-bullet"
      },
      "block_group": "46b2881797b041dfa56c24c684fcdd5f"
    },
    {
      "cell_type": "markdown",
      "source": "- December 25 - Final Report Video",
      "metadata": {
        "formattedRanges": [],
        "cell_id": "583b076e529548b9812781b8f5a3be03",
        "deepnote_cell_type": "text-cell-bullet"
      },
      "block_group": "5a01ab279e854348973c6f40fe2c4f2d"
    },
    {
      "cell_type": "markdown",
      "source": "<a style='text-decoration:none;line-height:16px;display:flex;color:#5B5B62;padding:10px;justify-content:end;' href='https://deepnote.com?utm_source=created-in-deepnote-cell&projectId=fe343e39-d2c0-4296-915d-091d9a42752d' target=\"_blank\">\n<img alt='Created in deepnote.com' style='display:inline;max-height:16px;margin:0px;margin-right:7.5px;' src='data:image/svg+xml;base64,PD94bWwgdmVyc2lvbj0iMS4wIiBlbmNvZGluZz0iVVRGLTgiPz4KPHN2ZyB3aWR0aD0iODBweCIgaGVpZ2h0PSI4MHB4IiB2aWV3Qm94PSIwIDAgODAgODAiIHZlcnNpb249IjEuMSIgeG1sbnM9Imh0dHA6Ly93d3cudzMub3JnLzIwMDAvc3ZnIiB4bWxuczp4bGluaz0iaHR0cDovL3d3dy53My5vcmcvMTk5OS94bGluayI+CiAgICA8IS0tIEdlbmVyYXRvcjogU2tldGNoIDU0LjEgKDc2NDkwKSAtIGh0dHBzOi8vc2tldGNoYXBwLmNvbSAtLT4KICAgIDx0aXRsZT5Hcm91cCAzPC90aXRsZT4KICAgIDxkZXNjPkNyZWF0ZWQgd2l0aCBTa2V0Y2guPC9kZXNjPgogICAgPGcgaWQ9IkxhbmRpbmciIHN0cm9rZT0ibm9uZSIgc3Ryb2tlLXdpZHRoPSIxIiBmaWxsPSJub25lIiBmaWxsLXJ1bGU9ImV2ZW5vZGQiPgogICAgICAgIDxnIGlkPSJBcnRib2FyZCIgdHJhbnNmb3JtPSJ0cmFuc2xhdGUoLTEyMzUuMDAwMDAwLCAtNzkuMDAwMDAwKSI+CiAgICAgICAgICAgIDxnIGlkPSJHcm91cC0zIiB0cmFuc2Zvcm09InRyYW5zbGF0ZSgxMjM1LjAwMDAwMCwgNzkuMDAwMDAwKSI+CiAgICAgICAgICAgICAgICA8cG9seWdvbiBpZD0iUGF0aC0yMCIgZmlsbD0iIzAyNjVCNCIgcG9pbnRzPSIyLjM3NjIzNzYyIDgwIDM4LjA0NzY2NjcgODAgNTcuODIxNzgyMiA3My44MDU3NTkyIDU3LjgyMTc4MjIgMzIuNzU5MjczOSAzOS4xNDAyMjc4IDMxLjY4MzE2ODMiPjwvcG9seWdvbj4KICAgICAgICAgICAgICAgIDxwYXRoIGQ9Ik0zNS4wMDc3MTgsODAgQzQyLjkwNjIwMDcsNzYuNDU0OTM1OCA0Ny41NjQ5MTY3LDcxLjU0MjI2NzEgNDguOTgzODY2LDY1LjI2MTk5MzkgQzUxLjExMjI4OTksNTUuODQxNTg0MiA0MS42NzcxNzk1LDQ5LjIxMjIyODQgMjUuNjIzOTg0Niw0OS4yMTIyMjg0IEMyNS40ODQ5Mjg5LDQ5LjEyNjg0NDggMjkuODI2MTI5Niw0My4yODM4MjQ4IDM4LjY0NzU4NjksMzEuNjgzMTY4MyBMNzIuODcxMjg3MSwzMi41NTQ0MjUgTDY1LjI4MDk3Myw2Ny42NzYzNDIxIEw1MS4xMTIyODk5LDc3LjM3NjE0NCBMMzUuMDA3NzE4LDgwIFoiIGlkPSJQYXRoLTIyIiBmaWxsPSIjMDAyODY4Ij48L3BhdGg+CiAgICAgICAgICAgICAgICA8cGF0aCBkPSJNMCwzNy43MzA0NDA1IEwyNy4xMTQ1MzcsMC4yNTcxMTE0MzYgQzYyLjM3MTUxMjMsLTEuOTkwNzE3MDEgODAsMTAuNTAwMzkyNyA4MCwzNy43MzA0NDA1IEM4MCw2NC45NjA0ODgyIDY0Ljc3NjUwMzgsNzkuMDUwMzQxNCAzNC4zMjk1MTEzLDgwIEM0Ny4wNTUzNDg5LDc3LjU2NzA4MDggNTMuNDE4MjY3Nyw3MC4zMTM2MTAzIDUzLjQxODI2NzcsNTguMjM5NTg4NSBDNTMuNDE4MjY3Nyw0MC4xMjg1NTU3IDM2LjMwMzk1NDQsMzcuNzMwNDQwNSAyNS4yMjc0MTcsMzcuNzMwNDQwNSBDMTcuODQzMDU4NiwzNy43MzA0NDA1IDkuNDMzOTE5NjYsMzcuNzMwNDQwNSAwLDM3LjczMDQ0MDUgWiIgaWQ9IlBhdGgtMTkiIGZpbGw9IiMzNzkzRUYiPjwvcGF0aD4KICAgICAgICAgICAgPC9nPgogICAgICAgIDwvZz4KICAgIDwvZz4KPC9zdmc+' > </img>\nCreated in <span style='font-weight:600;margin-left:4px;'>Deepnote</span></a>",
      "metadata": {
        "created_in_deepnote_cell": true,
        "deepnote_cell_type": "markdown"
      }
    }
  ],
  "nbformat": 4,
  "nbformat_minor": 0,
  "metadata": {
    "deepnote": {},
    "orig_nbformat": 2,
    "deepnote_notebook_id": "50ea56056b0041bc92734748fee30096",
    "deepnote_execution_queue": []
  }
}