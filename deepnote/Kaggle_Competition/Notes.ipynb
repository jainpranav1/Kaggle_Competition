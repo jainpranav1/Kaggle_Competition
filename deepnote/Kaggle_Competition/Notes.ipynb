{
  "cells": [
    {
      "cell_type": "markdown",
      "source": "",
      "metadata": {
        "formattedRanges": [],
        "cell_id": "04cce0d12dc648329955073fe4efb794",
        "deepnote_cell_type": "text-cell-p"
      },
      "block_group": "9dbebad8089f48ac8ce55c8a069f4e43"
    },
    {
      "cell_type": "markdown",
      "source": "# Notes",
      "metadata": {
        "formattedRanges": [],
        "cell_id": "d3c2a3451bed4423bc6aa330fc5dd09f",
        "deepnote_cell_type": "text-cell-h1"
      },
      "block_group": "342b68a516c04817a39f3ff83714c068"
    },
    {
      "cell_type": "markdown",
      "source": "## 11-28 Meeting",
      "metadata": {
        "formattedRanges": [],
        "cell_id": "f798e6ff6f1e493ea82faec5b022cce1",
        "deepnote_cell_type": "text-cell-h2"
      },
      "block_group": "f4fd5b92479c49acacd33c4cc41733a2"
    },
    {
      "cell_type": "markdown",
      "source": "### Transformer",
      "metadata": {
        "formattedRanges": [],
        "cell_id": "32b864d530054e58a6ee0356f74f7ead",
        "deepnote_cell_type": "text-cell-h3"
      },
      "block_group": "9f119835183546a987a826ab9c05c362"
    },
    {
      "cell_type": "markdown",
      "source": "- 2A3 MAE: 0.18",
      "metadata": {
        "formattedRanges": [],
        "cell_id": "84555d9e862b40928cca25b253f18944",
        "deepnote_cell_type": "text-cell-bullet"
      },
      "block_group": "bdb65b93169d4ee89d7a74deb589ba0a"
    },
    {
      "cell_type": "markdown",
      "source": "- add layers between transformer layers",
      "metadata": {
        "formattedRanges": [],
        "cell_id": "abbf2280f1b949b3aec50a08f756470b",
        "deepnote_cell_type": "text-cell-bullet"
      },
      "block_group": "09321aa532a24d0daf9033be08671862"
    },
    {
      "cell_type": "markdown",
      "source": "- Word embedding; we can consider changing the number of hidden layers; input is one hot encoding",
      "metadata": {
        "formattedRanges": [],
        "cell_id": "6f264472c7ae4be69ca5b994585d6400",
        "deepnote_cell_type": "text-cell-bullet"
      },
      "block_group": "f054d73f5fd04f7995bac29d9c85d327"
    },
    {
      "cell_type": "markdown",
      "source": "- positional encoding; different methods of positional encoding",
      "metadata": {
        "formattedRanges": [],
        "cell_id": "0eabe07cd54948c9b6e1cc351bff242c",
        "deepnote_cell_type": "text-cell-bullet"
      },
      "block_group": "148ada9316d847f0ab420da5c44c460b"
    },
    {
      "cell_type": "markdown",
      "source": "- encoder",
      "metadata": {
        "formattedRanges": [],
        "cell_id": "91e2907e266e45e1b17eaafe25513df0",
        "deepnote_cell_type": "text-cell-bullet"
      },
      "block_group": "53a1cb0519a549acacc099b0894bbcc3"
    },
    {
      "cell_type": "markdown",
      "source": "- decoder - modify fully connected neural network;",
      "metadata": {
        "formattedRanges": [],
        "cell_id": "a1f5a58bc75c47dc99ece98056d1c06a",
        "deepnote_cell_type": "text-cell-bullet"
      },
      "block_group": "954c88c933154a8b833714f29f5165a8"
    },
    {
      "cell_type": "markdown",
      "source": "- normalize after every step",
      "metadata": {
        "formattedRanges": [],
        "cell_id": "5ebaafdbeaa04c1bb24b4b1a032fd8d3",
        "deepnote_cell_type": "text-cell-bullet"
      },
      "block_group": "58a8f15a812d42a3ad2fc005d79abacf"
    },
    {
      "cell_type": "markdown",
      "source": "- consider different similarity function",
      "metadata": {
        "formattedRanges": [],
        "cell_id": "751160e01e764eb7a5e2ffaf4cf7365b",
        "deepnote_cell_type": "text-cell-bullet"
      },
      "block_group": "37f837f9da4d4c24a0fbdaf7002c4e7b"
    },
    {
      "cell_type": "markdown",
      "source": "- pretrained model - huggingface, kaggle",
      "metadata": {
        "formattedRanges": [],
        "cell_id": "539d44a4784d4f48b4e27de0c59e3d42",
        "deepnote_cell_type": "text-cell-bullet"
      },
      "block_group": "c2e492c2c95245a7aa3c6ee9bcd96380"
    },
    {
      "cell_type": "markdown",
      "source": "### CNN",
      "metadata": {
        "formattedRanges": [],
        "cell_id": "91b9d5a4669c44a4bd7aeaa08ceeab00",
        "deepnote_cell_type": "text-cell-h3"
      },
      "block_group": "b94757ccf1af4410b493cd4807c75c80"
    },
    {
      "cell_type": "markdown",
      "source": "- Printed out architecture",
      "metadata": {
        "formattedRanges": [],
        "cell_id": "0e93c02159e84b7abcef04f7c2aa1992",
        "deepnote_cell_type": "text-cell-bullet"
      },
      "block_group": "5d9375e6b39e43d6b3a2685c4ae199ac"
    },
    {
      "cell_type": "markdown",
      "source": "- Could add more layers",
      "metadata": {
        "formattedRanges": [],
        "cell_id": "8694886f874d489692ddc00daefb2f4e",
        "deepnote_cell_type": "text-cell-bullet"
      },
      "block_group": "06ba04b4b9804cceae37b415a235b0b1"
    },
    {
      "cell_type": "markdown",
      "source": "- Played around with filter parameters, dropout, activation functions",
      "metadata": {
        "formattedRanges": [],
        "cell_id": "23ea32ca7abb4588bd9d7990079a8eb3",
        "deepnote_cell_type": "text-cell-bullet"
      },
      "block_group": "2e98455d62204329815f36e19f18fa5b"
    },
    {
      "cell_type": "markdown",
      "source": "- Retrain with plots of accuracy vs epoch, save model weights, train on DMS, mutate and map",
      "metadata": {
        "formattedRanges": [],
        "cell_id": "fb8357c3558149e1bca77e84b9843d76",
        "deepnote_cell_type": "text-cell-bullet"
      },
      "block_group": "d496dee4ddf940fdbf1a394239bfe9bf"
    },
    {
      "cell_type": "markdown",
      "source": "### Secondary Structure Predictor",
      "metadata": {
        "formattedRanges": [],
        "cell_id": "0d9678287da34e24b65d6f2d1845c47b",
        "deepnote_cell_type": "text-cell-h3"
      },
      "block_group": "6139813024fb4c7b8b5b57009a93081e"
    },
    {
      "cell_type": "markdown",
      "source": "- ",
      "metadata": {
        "formattedRanges": [],
        "cell_id": "bcecd252d18d4fdfb859234164a24cb2",
        "deepnote_cell_type": "text-cell-bullet"
      },
      "block_group": "92b081396c974b60ad1aa5ede835956d"
    },
    {
      "cell_type": "markdown",
      "source": "<a style='text-decoration:none;line-height:16px;display:flex;color:#5B5B62;padding:10px;justify-content:end;' href='https://deepnote.com?utm_source=created-in-deepnote-cell&projectId=fe343e39-d2c0-4296-915d-091d9a42752d' target=\"_blank\">\n<img alt='Created in deepnote.com' style='display:inline;max-height:16px;margin:0px;margin-right:7.5px;' src='data:image/svg+xml;base64,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' > </img>\nCreated in <span style='font-weight:600;margin-left:4px;'>Deepnote</span></a>",
      "metadata": {
        "created_in_deepnote_cell": true,
        "deepnote_cell_type": "markdown"
      }
    }
  ],
  "nbformat": 4,
  "nbformat_minor": 0,
  "metadata": {
    "deepnote": {},
    "orig_nbformat": 2,
    "deepnote_execution_queue": []
  }
}