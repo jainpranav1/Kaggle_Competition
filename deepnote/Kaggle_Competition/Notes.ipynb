{
  "cells": [
    {
      "cell_type": "markdown",
      "source": "",
      "metadata": {
        "formattedRanges": [],
        "cell_id": "04cce0d12dc648329955073fe4efb794",
        "deepnote_cell_type": "text-cell-p"
      },
      "block_group": "9dbebad8089f48ac8ce55c8a069f4e43"
    },
    {
      "cell_type": "markdown",
      "source": "# Notes",
      "metadata": {
        "formattedRanges": [],
        "cell_id": "d3c2a3451bed4423bc6aa330fc5dd09f",
        "deepnote_cell_type": "text-cell-h1"
      },
      "block_group": "342b68a516c04817a39f3ff83714c068"
    },
    {
      "cell_type": "markdown",
      "source": "## 11-28 Meeting (Team)",
      "metadata": {
        "formattedRanges": [],
        "cell_id": "f798e6ff6f1e493ea82faec5b022cce1",
        "deepnote_cell_type": "text-cell-h2"
      },
      "block_group": "f4fd5b92479c49acacd33c4cc41733a2"
    },
    {
      "cell_type": "markdown",
      "source": "### Transformer",
      "metadata": {
        "formattedRanges": [],
        "cell_id": "32b864d530054e58a6ee0356f74f7ead",
        "deepnote_cell_type": "text-cell-h3"
      },
      "block_group": "9f119835183546a987a826ab9c05c362"
    },
    {
      "cell_type": "markdown",
      "source": "- 2A3 MAE: 0.18",
      "metadata": {
        "formattedRanges": [],
        "cell_id": "84555d9e862b40928cca25b253f18944",
        "deepnote_cell_type": "text-cell-bullet"
      },
      "block_group": "bdb65b93169d4ee89d7a74deb589ba0a"
    },
    {
      "cell_type": "markdown",
      "source": "- add layers between transformer layers",
      "metadata": {
        "formattedRanges": [],
        "cell_id": "abbf2280f1b949b3aec50a08f756470b",
        "deepnote_cell_type": "text-cell-bullet"
      },
      "block_group": "09321aa532a24d0daf9033be08671862"
    },
    {
      "cell_type": "markdown",
      "source": "- Word embedding; we can consider changing the number of hidden layers; input is one hot encoding",
      "metadata": {
        "formattedRanges": [],
        "cell_id": "6f264472c7ae4be69ca5b994585d6400",
        "deepnote_cell_type": "text-cell-bullet"
      },
      "block_group": "f054d73f5fd04f7995bac29d9c85d327"
    },
    {
      "cell_type": "markdown",
      "source": "- positional encoding; different methods of positional encoding",
      "metadata": {
        "formattedRanges": [],
        "cell_id": "0eabe07cd54948c9b6e1cc351bff242c",
        "deepnote_cell_type": "text-cell-bullet"
      },
      "block_group": "148ada9316d847f0ab420da5c44c460b"
    },
    {
      "cell_type": "markdown",
      "source": "- encoder",
      "metadata": {
        "formattedRanges": [],
        "cell_id": "91e2907e266e45e1b17eaafe25513df0",
        "deepnote_cell_type": "text-cell-bullet"
      },
      "block_group": "53a1cb0519a549acacc099b0894bbcc3"
    },
    {
      "cell_type": "markdown",
      "source": "- decoder - modify fully connected neural network;",
      "metadata": {
        "formattedRanges": [],
        "cell_id": "a1f5a58bc75c47dc99ece98056d1c06a",
        "deepnote_cell_type": "text-cell-bullet"
      },
      "block_group": "954c88c933154a8b833714f29f5165a8"
    },
    {
      "cell_type": "markdown",
      "source": "- normalize after every step",
      "metadata": {
        "formattedRanges": [],
        "cell_id": "5ebaafdbeaa04c1bb24b4b1a032fd8d3",
        "deepnote_cell_type": "text-cell-bullet"
      },
      "block_group": "58a8f15a812d42a3ad2fc005d79abacf"
    },
    {
      "cell_type": "markdown",
      "source": "- consider different similarity function",
      "metadata": {
        "formattedRanges": [],
        "cell_id": "751160e01e764eb7a5e2ffaf4cf7365b",
        "deepnote_cell_type": "text-cell-bullet"
      },
      "block_group": "37f837f9da4d4c24a0fbdaf7002c4e7b"
    },
    {
      "cell_type": "markdown",
      "source": "- pretrained model - huggingface, kaggle",
      "metadata": {
        "formattedRanges": [],
        "cell_id": "539d44a4784d4f48b4e27de0c59e3d42",
        "deepnote_cell_type": "text-cell-bullet"
      },
      "block_group": "c2e492c2c95245a7aa3c6ee9bcd96380"
    },
    {
      "cell_type": "markdown",
      "source": "### CNN",
      "metadata": {
        "formattedRanges": [],
        "cell_id": "91b9d5a4669c44a4bd7aeaa08ceeab00",
        "deepnote_cell_type": "text-cell-h3"
      },
      "block_group": "b94757ccf1af4410b493cd4807c75c80"
    },
    {
      "cell_type": "markdown",
      "source": "- Printed out architecture",
      "metadata": {
        "formattedRanges": [],
        "cell_id": "0e93c02159e84b7abcef04f7c2aa1992",
        "deepnote_cell_type": "text-cell-bullet"
      },
      "block_group": "5d9375e6b39e43d6b3a2685c4ae199ac"
    },
    {
      "cell_type": "markdown",
      "source": "- Could add more layers",
      "metadata": {
        "formattedRanges": [],
        "cell_id": "8694886f874d489692ddc00daefb2f4e",
        "deepnote_cell_type": "text-cell-bullet"
      },
      "block_group": "06ba04b4b9804cceae37b415a235b0b1"
    },
    {
      "cell_type": "markdown",
      "source": "- Played around with filter parameters, dropout, activation functions",
      "metadata": {
        "formattedRanges": [],
        "cell_id": "23ea32ca7abb4588bd9d7990079a8eb3",
        "deepnote_cell_type": "text-cell-bullet"
      },
      "block_group": "2e98455d62204329815f36e19f18fa5b"
    },
    {
      "cell_type": "markdown",
      "source": "- Retrain with plots of accuracy vs epoch, save model weights, train on DMS, mutate and map",
      "metadata": {
        "formattedRanges": [],
        "cell_id": "fb8357c3558149e1bca77e84b9843d76",
        "deepnote_cell_type": "text-cell-bullet"
      },
      "block_group": "d496dee4ddf940fdbf1a394239bfe9bf"
    },
    {
      "cell_type": "markdown",
      "source": "",
      "metadata": {
        "formattedRanges": [],
        "cell_id": "2693cd4de8714c71a6b01f7e0432059d",
        "deepnote_cell_type": "text-cell-p"
      },
      "block_group": "971e695ff91042b397146cd6fb96c9a6"
    },
    {
      "cell_type": "markdown",
      "source": "<img src=\"image-20231130-205834.png\" width=\"\" align=\"\" />",
      "metadata": {
        "deepnote_img_src": "image-20231130-205834.png",
        "cell_id": "0aabdeace36049548a9f19120e3d25ab",
        "deepnote_cell_type": "image"
      },
      "block_group": "f93dbe1fc6644837ac3a1342b7946507"
    },
    {
      "cell_type": "markdown",
      "source": "<img src=\"image-20231130-200441.png\" width=\"\" align=\"\" />",
      "metadata": {
        "deepnote_img_src": "image-20231130-200441.png",
        "cell_id": "2b7eb3db3fa944c3bc2f75665d92d0d9",
        "deepnote_cell_type": "image"
      },
      "block_group": "1f03e02f7f8147cfac4e535cb856f475"
    },
    {
      "cell_type": "markdown",
      "source": "### Secondary Structure Predictor",
      "metadata": {
        "formattedRanges": [],
        "cell_id": "0d9678287da34e24b65d6f2d1845c47b",
        "deepnote_cell_type": "text-cell-h3"
      },
      "block_group": "6139813024fb4c7b8b5b57009a93081e"
    },
    {
      "cell_type": "markdown",
      "source": "- Add the secondary structure predictions to the models",
      "metadata": {
        "formattedRanges": [],
        "cell_id": "bcecd252d18d4fdfb859234164a24cb2",
        "deepnote_cell_type": "text-cell-bullet"
      },
      "block_group": "92b081396c974b60ad1aa5ede835956d"
    },
    {
      "cell_type": "markdown",
      "source": "- Try examining a plot of p(unpaired) and reactivity",
      "metadata": {
        "formattedRanges": [],
        "cell_id": "5620407145aa4ea188b043e6e3b8923e",
        "deepnote_cell_type": "text-cell-bullet"
      },
      "block_group": "2fdd7a6e76ab4c2abaf3a06c85ca309c"
    },
    {
      "cell_type": "markdown",
      "source": "- See how you can work with p(unpaired) data very quickly (sort data, split data into separate files)",
      "metadata": {
        "formattedRanges": [],
        "cell_id": "f4e210f8a6a14a3cb3dce5ff0020a371",
        "deepnote_cell_type": "text-cell-bullet"
      },
      "block_group": "a0f818e64a534afc80858b04cf85b1a9"
    },
    {
      "cell_type": "markdown",
      "source": "",
      "metadata": {
        "formattedRanges": [],
        "cell_id": "019691b2c8544765a394a3019bcbeb12",
        "deepnote_cell_type": "text-cell-p"
      },
      "block_group": "33a0174dea664563bf0be377fe1c5b31"
    },
    {
      "cell_type": "markdown",
      "source": "## 11-29 Meeting (Knowles)",
      "metadata": {
        "formattedRanges": [],
        "cell_id": "aa8cde16c0ca4abcb64920cd033c345a",
        "deepnote_cell_type": "text-cell-h2"
      },
      "block_group": "89e6cd2ec69347c0be3e220f62e7e9e2"
    },
    {
      "cell_type": "markdown",
      "source": "- For transformer, look at different positional encoding techniques",
      "metadata": {
        "formattedRanges": [],
        "cell_id": "944399bf0f854727a8118693bd4551cc",
        "deepnote_cell_type": "text-cell-bullet"
      },
      "block_group": "dd2b9480c26647058ebc48dd3879fc0a"
    },
    {
      "cell_type": "markdown",
      "source": "- Look at enformer model (https://www.nature.com/articles/s41592-021-01252-x) for positional encoding techniques; relative encoding",
      "metadata": {
        "formattedRanges": [
          {
            "url": "https://www.nature.com/articles/s41592-021-01252-x",
            "type": "link",
            "ranges": [],
            "toCodePoint": 74,
            "fromCodePoint": 24
          }
        ],
        "cell_id": "7e5d27a727a94acea8e5f78aaf345693",
        "deepnote_cell_type": "text-cell-bullet"
      },
      "block_group": "bf3026813fc841049f55930d30ad960a"
    },
    {
      "cell_type": "markdown",
      "source": "- CNN doing better; maybe because the positional encoding technique is not good",
      "metadata": {
        "formattedRanges": [],
        "cell_id": "56776c3da10c4453829735f5bc0d9e5c",
        "deepnote_cell_type": "text-cell-bullet"
      },
      "block_group": "4cf645cd70304dcf83783d70fc2fc638"
    },
    {
      "cell_type": "markdown",
      "source": "## 12-01 Meeting (Pranav and Max)",
      "metadata": {
        "formattedRanges": [],
        "cell_id": "87052e30c5b847b893ec6e04be120029",
        "deepnote_cell_type": "text-cell-h2"
      },
      "block_group": "e896caa59237486aac96b75df352047b"
    },
    {
      "cell_type": "markdown",
      "source": "- Pranav - create train_data_V2.csv <-this file will contain both data from train_data.csv and p_unpaired.txt",
      "metadata": {
        "formattedRanges": [],
        "cell_id": "fd1a4ac32c4749d193c27f342e797602",
        "deepnote_cell_type": "text-cell-bullet"
      },
      "block_group": "94697d7573ed48bd878fa532d4eb66a2"
    },
    {
      "cell_type": "markdown",
      "source": "- Max - incorporate train_data_V2 into CNN. Import Test sequences and report MAE. Consider varying input size.",
      "metadata": {
        "formattedRanges": [],
        "cell_id": "59994b65110d40f3a5863e202cd7ad91",
        "deepnote_cell_type": "text-cell-bullet"
      },
      "block_group": "1b8b11e8aa3341eb9b3d8c1f21b905f1"
    },
    {
      "cell_type": "markdown",
      "source": "- Data boost - reverse the sequences for double the data (bonus)",
      "metadata": {
        "formattedRanges": [],
        "cell_id": "e6edab93331c43f889cd4b527af30467",
        "deepnote_cell_type": "text-cell-bullet"
      },
      "block_group": "464d1fe77c294c44bdfe60c2e1d50940"
    },
    {
      "cell_type": "markdown",
      "source": "- Transformer (from Nature paper)- positional encoding [most important], 8 heads [already the case], Value size = 192, Key/Query  = 64; the transformer may be slow because it may be unnecessarily large (maybe reduce d_model, dim_feedforward). Xiaoyi - can you reduce a few parameters and save model with loss plots?",
      "metadata": {
        "formattedRanges": [],
        "cell_id": "4a0a09a2382b4065824c26a58e588879",
        "deepnote_cell_type": "text-cell-bullet"
      },
      "block_group": "32b0ecc626d24097b5bfd1bdb43c4916"
    },
    {
      "cell_type": "markdown",
      "source": "<a style='text-decoration:none;line-height:16px;display:flex;color:#5B5B62;padding:10px;justify-content:end;' href='https://deepnote.com?utm_source=created-in-deepnote-cell&projectId=fe343e39-d2c0-4296-915d-091d9a42752d' target=\"_blank\">\n<img alt='Created in deepnote.com' style='display:inline;max-height:16px;margin:0px;margin-right:7.5px;' src='data:image/svg+xml;base64,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' > </img>\nCreated in <span style='font-weight:600;margin-left:4px;'>Deepnote</span></a>",
      "metadata": {
        "created_in_deepnote_cell": true,
        "deepnote_cell_type": "markdown"
      }
    }
  ],
  "nbformat": 4,
  "nbformat_minor": 0,
  "metadata": {
    "deepnote": {},
    "orig_nbformat": 2,
    "deepnote_notebook_id": "5355f5a2c6504773ab382a18ba6a69e5",
    "deepnote_execution_queue": []
  }
}